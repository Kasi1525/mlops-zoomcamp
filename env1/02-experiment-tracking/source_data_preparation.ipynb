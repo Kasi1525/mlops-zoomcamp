{
 "cells": [
  {
   "cell_type": "code",
   "execution_count": 8,
   "metadata": {},
   "outputs": [],
   "source": [
    "import pandas as pd\n",
    "import numpy as np\n",
    "import pickle\n",
    "import matplotlib.pyplot as plt\n",
    "#import plotly.express as px\n",
    "from xgboost import XGBClassifier\n",
    "import seaborn as sns\n",
    "from sklearn.preprocessing import StandardScaler, LabelEncoder\n",
    "from sklearn.ensemble import RandomForestClassifier\n",
    "from sklearn.svm import SVC\n",
    "from sklearn.model_selection import RepeatedStratifiedKFold, RandomizedSearchCV, GridSearchCV, train_test_split, KFold\n"
   ]
  },
  {
   "cell_type": "code",
   "execution_count": 9,
   "metadata": {},
   "outputs": [],
   "source": [
    "source_data= \"data/Student_performance_data _.csv\""
   ]
  },
  {
   "cell_type": "code",
   "execution_count": 10,
   "metadata": {},
   "outputs": [],
   "source": [
    "def data_load(source_file,unique_maxcount):\n",
    "    #read the file to dataframe\n",
    "    df = pd.read_csv(source_file)\n",
    "\n",
    "    # Distinction is based on the number of different values in the column\n",
    "    columns = list(df.columns)\n",
    "    categoric_columns = []\n",
    "    numeric_columns = []\n",
    "    for i in columns:\n",
    "        if len(df[i].unique()) > unique_maxcount:\n",
    "            numeric_columns.append(i)   \n",
    "        else:\n",
    "            categoric_columns.append(i)\n",
    "    # Assuming the first column is an ID or non-numeric feature\n",
    "    numeric_columns = numeric_columns[1:]\n",
    "\n",
    "    # Convert numeric columns to float64\n",
    "    df[numeric_columns] = df[numeric_columns].astype('float64')\n",
    "\n",
    "    return df\n",
    "\n",
    "def features(df):\n",
    "    # CHOOSE THE TARGET FEATURE HERE, IN THIS CASE IT IS 'GradeClass'\n",
    "    X = df.drop(columns=['GradeClass', 'GPA', 'StudentID', 'Age'])\n",
    "    y = df['GradeClass']\n",
    "\n",
    "    # Splitting the data into training and testing sets (e.g., 80% train, 20% test)\n",
    "    X_train, X_test, y_train, y_test = train_test_split(X, y, test_size=0.2, stratify=y, random_state=42)\n",
    "\n",
    "    return X_train, X_test, y_train, y_test\n"
   ]
  },
  {
   "cell_type": "code",
   "execution_count": 11,
   "metadata": {},
   "outputs": [],
   "source": [
    "\n",
    "# !pip install mlflow\n",
    "\n",
    "\n",
    "# !pip install mlflow[pipelines] \n",
    "# !conda install -c conda-forge mlflow-pipelines\n",
    "\n",
    "# !pip install mlflow[extras]\n",
    "\n",
    "# !pip install mlflow-skinny"
   ]
  },
  {
   "cell_type": "code",
   "execution_count": 12,
   "metadata": {},
   "outputs": [],
   "source": [
    "import mlflow"
   ]
  },
  {
   "cell_type": "code",
   "execution_count": 13,
   "metadata": {},
   "outputs": [],
   "source": [
    "def prepare_model():\n",
    "    \n",
    "    X_train, X_test, y_train, y_test = features(data_load(source_data, 5))\n",
    "    \n",
    "    #XGBClassifier\n",
    "    clf = XGBClassifier()\n",
    "    clf.fit(X_train, y_train)\n",
    "    score = clf.score(X_test, y_test)\n",
    "    print(f\"XGBoost accuracy: {score:.2f}\")\n",
    "\n",
    "    with open(\"/workspaces/mlops-zoomcamp/env1/02-experiment-tracking/models/XBGClassifier.bin\", \"wb\") as f_out:\n",
    "        pickle.dump((clf), f_out)\n",
    "\n",
    "    \n",
    "    #RandomForestClassifier\n",
    "    clf = RandomForestClassifier()\n",
    "    clf.fit(X_train, y_train)\n",
    "    score = clf.score(X_test, y_test)\n",
    "    print(f\"RandomForest accuracy: {score:.2f}\")\n",
    "\n",
    "\n",
    "    #SVC\n",
    "    clf = SVC()\n",
    "    clf.fit(X_train, y_train)\n",
    "    score = clf.score(X_test, y_test)\n",
    "    print(f\"Support Vector Machine accuracy: {score:.2f}\")\n",
    "\n",
    "\n",
    "    with mlflow.start_run():\n",
    "        mlflow.set_tag(\"developer\", \"Kasi\")\n",
    "        mlflow.log_param(\"train-data-path\", \"/workspaces/mlops-zoomcamp/env1/02-experiment-tracking/data/Student_performance_data _.csv\")\n",
    "        \n",
    "        model = SVC()\n",
    "        \n",
    "        # Define evaluation\n",
    "        cv = RepeatedStratifiedKFold(n_splits=10, n_repeats=3, random_state=1)\n",
    "        #Define grid\n",
    "        \n",
    "        grid = {'C': [0.1, 1, 10, 100, 1000],  \n",
    "        'gamma': [1, 0.1, 0.01, 0.001, 0.0001], \n",
    "        'kernel': ['rbf']\n",
    "        }\n",
    "        \n",
    "        search = GridSearchCV(estimator=model, param_grid=grid, cv=cv, scoring='accuracy', n_jobs=-1)\n",
    "        result = search.fit(X_train, y_train)\n",
    "\n",
    "        best_score = result.best_score_\n",
    "        best_hyperparameters = result.best_params_\n",
    "        \n",
    "        print('Best Score:',best_score)\n",
    "        print('Best Hyperparameters:',best_hyperparameters)\n",
    "        \n",
    "        mlflow.log_metric(\"best_score\", best_score.real)\n",
    "        for param_name, param_value in best_hyperparameters.items():\n",
    "            mlflow.log_param(param_name, param_value)\n",
    "        \n",
    "        mlflow.log_artifact(local_path=\"/workspaces/mlops-zoomcamp/env1/02-experiment-tracking/models/XBGClassifier.bin\", artifact_path=\"model\")\n",
    "        mlflow.sklearn.save_model(model, \"my_mode3\")\n",
    "    \n",
    "    "
   ]
  },
  {
   "cell_type": "code",
   "execution_count": 14,
   "metadata": {},
   "outputs": [
    {
     "name": "stdout",
     "output_type": "stream",
     "text": [
      "XGBoost accuracy: 0.67\n",
      "RandomForest accuracy: 0.71\n",
      "Support Vector Machine accuracy: 0.72\n"
     ]
    },
    {
     "name": "stdout",
     "output_type": "stream",
     "text": [
      "Best Score: 0.7586651032577082\n",
      "Best Hyperparameters: {'C': 100, 'gamma': 0.001, 'kernel': 'rbf'}\n"
     ]
    }
   ],
   "source": [
    "#setting up mlflow \n",
    "mlflow.set_tracking_uri(\"sqlite:///mlflow.db\")\n",
    "mlflow.set_experiment(\"student-perform-experiment1\")\n",
    "\n",
    "experiment_id=\"5\"\n",
    "mlflow.set_experiment(experiment_id=experiment_id)\n",
    "\n",
    "prepare_model()\n",
    "\n",
    "\n"
   ]
  }
 ],
 "metadata": {
  "kernelspec": {
   "display_name": "env1",
   "language": "python",
   "name": "python3"
  },
  "language_info": {
   "codemirror_mode": {
    "name": "ipython",
    "version": 3
   },
   "file_extension": ".py",
   "mimetype": "text/x-python",
   "name": "python",
   "nbconvert_exporter": "python",
   "pygments_lexer": "ipython3",
   "version": "3.10.13"
  }
 },
 "nbformat": 4,
 "nbformat_minor": 2
}
