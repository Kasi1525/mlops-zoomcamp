{
 "cells": [
  {
   "cell_type": "code",
   "execution_count": 7,
   "id": "b2bd82d7",
   "metadata": {},
   "outputs": [
    {
     "name": "stdout",
     "output_type": "stream",
     "text": [
      "Python 3.10.13\n"
     ]
    }
   ],
   "source": [
    "!python -V"
   ]
  },
  {
   "cell_type": "code",
   "execution_count": 8,
   "id": "41062d8a",
   "metadata": {},
   "outputs": [],
   "source": [
    "import pandas as pd"
   ]
  },
  {
   "cell_type": "code",
   "execution_count": 9,
   "id": "c984c564",
   "metadata": {},
   "outputs": [],
   "source": [
    "import pickle"
   ]
  },
  {
   "cell_type": "code",
   "execution_count": 10,
   "id": "4add538c",
   "metadata": {},
   "outputs": [],
   "source": [
    "import seaborn as sns\n",
    "import matplotlib.pyplot as plt"
   ]
  },
  {
   "cell_type": "code",
   "execution_count": 11,
   "id": "8b135c2b",
   "metadata": {},
   "outputs": [],
   "source": [
    "from sklearn.feature_extraction import DictVectorizer\n",
    "from sklearn.linear_model import LinearRegression\n",
    "from sklearn.linear_model import Lasso\n",
    "from sklearn.linear_model import Ridge\n",
    "\n",
    "from sklearn.metrics import mean_squared_error as root_mean_squared_error"
   ]
  },
  {
   "cell_type": "code",
   "execution_count": 12,
   "id": "57ddb3e1",
   "metadata": {},
   "outputs": [
    {
     "name": "stdout",
     "output_type": "stream",
     "text": [
      "Requirement already satisfied: mlflow in /workspaces/mlops-zoomcamp/env1/lib/python3.10/site-packages (2.14.1)\n",
      "Requirement already satisfied: sqlparse<1,>=0.4.0 in /workspaces/mlops-zoomcamp/env1/lib/python3.10/site-packages (from mlflow) (0.5.0)\n",
      "Requirement already satisfied: matplotlib<4 in /workspaces/mlops-zoomcamp/env1/lib/python3.10/site-packages (from mlflow) (3.9.0)\n",
      "Requirement already satisfied: scikit-learn<2 in /workspaces/mlops-zoomcamp/env1/lib/python3.10/site-packages (from mlflow) (1.5.0)\n",
      "Requirement already satisfied: querystring-parser<2 in /workspaces/mlops-zoomcamp/env1/lib/python3.10/site-packages (from mlflow) (1.2.4)\n",
      "Requirement already satisfied: pyarrow<16,>=4.0.0 in /workspaces/mlops-zoomcamp/env1/lib/python3.10/site-packages (from mlflow) (15.0.2)\n",
      "Requirement already satisfied: protobuf<5,>=3.12.0 in /workspaces/mlops-zoomcamp/env1/lib/python3.10/site-packages (from mlflow) (4.25.3)\n",
      "Requirement already satisfied: scipy<2 in /workspaces/mlops-zoomcamp/env1/lib/python3.10/site-packages (from mlflow) (1.14.0)\n",
      "Requirement already satisfied: alembic!=1.10.0,<2 in /workspaces/mlops-zoomcamp/env1/lib/python3.10/site-packages (from mlflow) (1.13.2)\n",
      "Requirement already satisfied: gitpython<4,>=3.1.9 in /workspaces/mlops-zoomcamp/env1/lib/python3.10/site-packages (from mlflow) (3.1.43)\n",
      "Requirement already satisfied: pyyaml<7,>=5.1 in /workspaces/mlops-zoomcamp/env1/lib/python3.10/site-packages (from mlflow) (6.0.1)\n",
      "Requirement already satisfied: cloudpickle<4 in /workspaces/mlops-zoomcamp/env1/lib/python3.10/site-packages (from mlflow) (3.0.0)\n",
      "Requirement already satisfied: opentelemetry-api<3,>=1.9.0 in /workspaces/mlops-zoomcamp/env1/lib/python3.10/site-packages (from mlflow) (1.25.0)\n",
      "Requirement already satisfied: pytz<2025 in /workspaces/mlops-zoomcamp/env1/lib/python3.10/site-packages (from mlflow) (2024.1)\n",
      "Requirement already satisfied: opentelemetry-sdk<3,>=1.9.0 in /workspaces/mlops-zoomcamp/env1/lib/python3.10/site-packages (from mlflow) (1.25.0)\n",
      "Requirement already satisfied: Jinja2<4,>=2.11 in /workspaces/mlops-zoomcamp/env1/lib/python3.10/site-packages (from mlflow) (3.1.4)\n",
      "Requirement already satisfied: entrypoints<1 in /workspaces/mlops-zoomcamp/env1/lib/python3.10/site-packages (from mlflow) (0.4)\n",
      "Requirement already satisfied: sqlalchemy<3,>=1.4.0 in /workspaces/mlops-zoomcamp/env1/lib/python3.10/site-packages (from mlflow) (2.0.31)\n",
      "Requirement already satisfied: importlib-metadata!=4.7.0,<8,>=3.7.0 in /workspaces/mlops-zoomcamp/env1/lib/python3.10/site-packages (from mlflow) (7.1.0)\n",
      "Requirement already satisfied: pandas<3 in /workspaces/mlops-zoomcamp/env1/lib/python3.10/site-packages (from mlflow) (2.2.2)\n",
      "Requirement already satisfied: docker<8,>=4.0.0 in /workspaces/mlops-zoomcamp/env1/lib/python3.10/site-packages (from mlflow) (7.1.0)\n",
      "Requirement already satisfied: graphene<4 in /workspaces/mlops-zoomcamp/env1/lib/python3.10/site-packages (from mlflow) (3.3)\n",
      "Requirement already satisfied: cachetools<6,>=5.0.0 in /workspaces/mlops-zoomcamp/env1/lib/python3.10/site-packages (from mlflow) (5.3.3)\n",
      "Requirement already satisfied: Flask<4 in /workspaces/mlops-zoomcamp/env1/lib/python3.10/site-packages (from mlflow) (3.0.3)\n",
      "Requirement already satisfied: requests<3,>=2.17.3 in /workspaces/mlops-zoomcamp/env1/lib/python3.10/site-packages (from mlflow) (2.32.3)\n",
      "Requirement already satisfied: numpy<2 in /workspaces/mlops-zoomcamp/env1/lib/python3.10/site-packages (from mlflow) (1.26.4)\n",
      "Requirement already satisfied: packaging<25 in /workspaces/mlops-zoomcamp/env1/lib/python3.10/site-packages (from mlflow) (24.1)\n",
      "Requirement already satisfied: gunicorn<23 in /workspaces/mlops-zoomcamp/env1/lib/python3.10/site-packages (from mlflow) (22.0.0)\n",
      "Requirement already satisfied: markdown<4,>=3.3 in /workspaces/mlops-zoomcamp/env1/lib/python3.10/site-packages (from mlflow) (3.6)\n",
      "Requirement already satisfied: click<9,>=7.0 in /workspaces/mlops-zoomcamp/env1/lib/python3.10/site-packages (from mlflow) (8.1.7)\n",
      "Requirement already satisfied: Mako in /workspaces/mlops-zoomcamp/env1/lib/python3.10/site-packages (from alembic!=1.10.0,<2->mlflow) (1.3.5)\n",
      "Requirement already satisfied: typing-extensions>=4 in /workspaces/mlops-zoomcamp/env1/lib/python3.10/site-packages (from alembic!=1.10.0,<2->mlflow) (4.12.2)\n",
      "Requirement already satisfied: urllib3>=1.26.0 in /workspaces/mlops-zoomcamp/env1/lib/python3.10/site-packages (from docker<8,>=4.0.0->mlflow) (2.2.2)\n",
      "Requirement already satisfied: blinker>=1.6.2 in /workspaces/mlops-zoomcamp/env1/lib/python3.10/site-packages (from Flask<4->mlflow) (1.8.2)\n",
      "Requirement already satisfied: Werkzeug>=3.0.0 in /workspaces/mlops-zoomcamp/env1/lib/python3.10/site-packages (from Flask<4->mlflow) (3.0.3)\n",
      "Requirement already satisfied: itsdangerous>=2.1.2 in /workspaces/mlops-zoomcamp/env1/lib/python3.10/site-packages (from Flask<4->mlflow) (2.2.0)\n",
      "Requirement already satisfied: gitdb<5,>=4.0.1 in /workspaces/mlops-zoomcamp/env1/lib/python3.10/site-packages (from gitpython<4,>=3.1.9->mlflow) (4.0.11)\n",
      "Requirement already satisfied: graphql-relay<3.3,>=3.1 in /workspaces/mlops-zoomcamp/env1/lib/python3.10/site-packages (from graphene<4->mlflow) (3.2.0)\n",
      "Requirement already satisfied: aniso8601<10,>=8 in /workspaces/mlops-zoomcamp/env1/lib/python3.10/site-packages (from graphene<4->mlflow) (9.0.1)\n",
      "Requirement already satisfied: graphql-core<3.3,>=3.1 in /workspaces/mlops-zoomcamp/env1/lib/python3.10/site-packages (from graphene<4->mlflow) (3.2.3)\n",
      "Requirement already satisfied: zipp>=0.5 in /workspaces/mlops-zoomcamp/env1/lib/python3.10/site-packages (from importlib-metadata!=4.7.0,<8,>=3.7.0->mlflow) (3.19.2)\n",
      "Requirement already satisfied: MarkupSafe>=2.0 in /workspaces/mlops-zoomcamp/env1/lib/python3.10/site-packages (from Jinja2<4,>=2.11->mlflow) (2.1.5)\n",
      "Requirement already satisfied: cycler>=0.10 in /workspaces/mlops-zoomcamp/env1/lib/python3.10/site-packages (from matplotlib<4->mlflow) (0.12.1)\n",
      "Requirement already satisfied: pyparsing>=2.3.1 in /workspaces/mlops-zoomcamp/env1/lib/python3.10/site-packages (from matplotlib<4->mlflow) (3.1.2)\n",
      "Requirement already satisfied: python-dateutil>=2.7 in /workspaces/mlops-zoomcamp/env1/lib/python3.10/site-packages (from matplotlib<4->mlflow) (2.9.0.post0)\n",
      "Requirement already satisfied: fonttools>=4.22.0 in /workspaces/mlops-zoomcamp/env1/lib/python3.10/site-packages (from matplotlib<4->mlflow) (4.53.0)\n",
      "Requirement already satisfied: pillow>=8 in /workspaces/mlops-zoomcamp/env1/lib/python3.10/site-packages (from matplotlib<4->mlflow) (10.4.0)\n",
      "Requirement already satisfied: contourpy>=1.0.1 in /workspaces/mlops-zoomcamp/env1/lib/python3.10/site-packages (from matplotlib<4->mlflow) (1.2.1)\n",
      "Requirement already satisfied: kiwisolver>=1.3.1 in /workspaces/mlops-zoomcamp/env1/lib/python3.10/site-packages (from matplotlib<4->mlflow) (1.4.5)\n",
      "Requirement already satisfied: deprecated>=1.2.6 in /workspaces/mlops-zoomcamp/env1/lib/python3.10/site-packages (from opentelemetry-api<3,>=1.9.0->mlflow) (1.2.14)\n",
      "Requirement already satisfied: opentelemetry-semantic-conventions==0.46b0 in /workspaces/mlops-zoomcamp/env1/lib/python3.10/site-packages (from opentelemetry-sdk<3,>=1.9.0->mlflow) (0.46b0)\n",
      "Requirement already satisfied: tzdata>=2022.7 in /workspaces/mlops-zoomcamp/env1/lib/python3.10/site-packages (from pandas<3->mlflow) (2024.1)\n",
      "Requirement already satisfied: six in /workspaces/mlops-zoomcamp/env1/lib/python3.10/site-packages (from querystring-parser<2->mlflow) (1.16.0)\n",
      "Requirement already satisfied: charset-normalizer<4,>=2 in /workspaces/mlops-zoomcamp/env1/lib/python3.10/site-packages (from requests<3,>=2.17.3->mlflow) (3.3.2)\n",
      "Requirement already satisfied: idna<4,>=2.5 in /workspaces/mlops-zoomcamp/env1/lib/python3.10/site-packages (from requests<3,>=2.17.3->mlflow) (3.7)\n",
      "Requirement already satisfied: certifi>=2017.4.17 in /workspaces/mlops-zoomcamp/env1/lib/python3.10/site-packages (from requests<3,>=2.17.3->mlflow) (2024.6.2)\n",
      "Requirement already satisfied: joblib>=1.2.0 in /workspaces/mlops-zoomcamp/env1/lib/python3.10/site-packages (from scikit-learn<2->mlflow) (1.4.2)\n",
      "Requirement already satisfied: threadpoolctl>=3.1.0 in /workspaces/mlops-zoomcamp/env1/lib/python3.10/site-packages (from scikit-learn<2->mlflow) (3.5.0)\n",
      "Requirement already satisfied: greenlet!=0.4.17 in /workspaces/mlops-zoomcamp/env1/lib/python3.10/site-packages (from sqlalchemy<3,>=1.4.0->mlflow) (3.0.3)\n",
      "Requirement already satisfied: wrapt<2,>=1.10 in /workspaces/mlops-zoomcamp/env1/lib/python3.10/site-packages (from deprecated>=1.2.6->opentelemetry-api<3,>=1.9.0->mlflow) (1.16.0)\n",
      "Requirement already satisfied: smmap<6,>=3.0.1 in /workspaces/mlops-zoomcamp/env1/lib/python3.10/site-packages (from gitdb<5,>=4.0.1->gitpython<4,>=3.1.9->mlflow) (5.0.1)\n",
      "\n",
      "\u001b[1m[\u001b[0m\u001b[34;49mnotice\u001b[0m\u001b[1;39;49m]\u001b[0m\u001b[39;49m A new release of pip is available: \u001b[0m\u001b[31;49m23.0.1\u001b[0m\u001b[39;49m -> \u001b[0m\u001b[32;49m24.1.1\u001b[0m\n",
      "\u001b[1m[\u001b[0m\u001b[34;49mnotice\u001b[0m\u001b[1;39;49m]\u001b[0m\u001b[39;49m To update, run: \u001b[0m\u001b[32;49mpip install --upgrade pip\u001b[0m\n",
      "Requirement already satisfied: mlflow[pipelines] in /workspaces/mlops-zoomcamp/env1/lib/python3.10/site-packages (2.14.1)\n",
      "\u001b[33mWARNING: mlflow 2.14.1 does not provide the extra 'pipelines'\u001b[0m\u001b[33m\n",
      "\u001b[0mRequirement already satisfied: entrypoints<1 in /workspaces/mlops-zoomcamp/env1/lib/python3.10/site-packages (from mlflow[pipelines]) (0.4)\n",
      "Requirement already satisfied: cloudpickle<4 in /workspaces/mlops-zoomcamp/env1/lib/python3.10/site-packages (from mlflow[pipelines]) (3.0.0)\n",
      "Requirement already satisfied: markdown<4,>=3.3 in /workspaces/mlops-zoomcamp/env1/lib/python3.10/site-packages (from mlflow[pipelines]) (3.6)\n",
      "Requirement already satisfied: numpy<2 in /workspaces/mlops-zoomcamp/env1/lib/python3.10/site-packages (from mlflow[pipelines]) (1.26.4)\n",
      "Requirement already satisfied: cachetools<6,>=5.0.0 in /workspaces/mlops-zoomcamp/env1/lib/python3.10/site-packages (from mlflow[pipelines]) (5.3.3)\n",
      "Requirement already satisfied: pandas<3 in /workspaces/mlops-zoomcamp/env1/lib/python3.10/site-packages (from mlflow[pipelines]) (2.2.2)\n",
      "Requirement already satisfied: docker<8,>=4.0.0 in /workspaces/mlops-zoomcamp/env1/lib/python3.10/site-packages (from mlflow[pipelines]) (7.1.0)\n",
      "Requirement already satisfied: gunicorn<23 in /workspaces/mlops-zoomcamp/env1/lib/python3.10/site-packages (from mlflow[pipelines]) (22.0.0)\n",
      "Requirement already satisfied: opentelemetry-sdk<3,>=1.9.0 in /workspaces/mlops-zoomcamp/env1/lib/python3.10/site-packages (from mlflow[pipelines]) (1.25.0)\n",
      "Requirement already satisfied: matplotlib<4 in /workspaces/mlops-zoomcamp/env1/lib/python3.10/site-packages (from mlflow[pipelines]) (3.9.0)\n",
      "Requirement already satisfied: querystring-parser<2 in /workspaces/mlops-zoomcamp/env1/lib/python3.10/site-packages (from mlflow[pipelines]) (1.2.4)\n",
      "Requirement already satisfied: click<9,>=7.0 in /workspaces/mlops-zoomcamp/env1/lib/python3.10/site-packages (from mlflow[pipelines]) (8.1.7)\n",
      "Requirement already satisfied: scikit-learn<2 in /workspaces/mlops-zoomcamp/env1/lib/python3.10/site-packages (from mlflow[pipelines]) (1.5.0)\n",
      "Requirement already satisfied: sqlparse<1,>=0.4.0 in /workspaces/mlops-zoomcamp/env1/lib/python3.10/site-packages (from mlflow[pipelines]) (0.5.0)\n",
      "Requirement already satisfied: scipy<2 in /workspaces/mlops-zoomcamp/env1/lib/python3.10/site-packages (from mlflow[pipelines]) (1.14.0)\n",
      "Requirement already satisfied: pyyaml<7,>=5.1 in /workspaces/mlops-zoomcamp/env1/lib/python3.10/site-packages (from mlflow[pipelines]) (6.0.1)\n",
      "Requirement already satisfied: pytz<2025 in /workspaces/mlops-zoomcamp/env1/lib/python3.10/site-packages (from mlflow[pipelines]) (2024.1)\n",
      "Requirement already satisfied: Flask<4 in /workspaces/mlops-zoomcamp/env1/lib/python3.10/site-packages (from mlflow[pipelines]) (3.0.3)\n",
      "Requirement already satisfied: Jinja2<4,>=2.11 in /workspaces/mlops-zoomcamp/env1/lib/python3.10/site-packages (from mlflow[pipelines]) (3.1.4)\n",
      "Requirement already satisfied: gitpython<4,>=3.1.9 in /workspaces/mlops-zoomcamp/env1/lib/python3.10/site-packages (from mlflow[pipelines]) (3.1.43)\n",
      "Requirement already satisfied: importlib-metadata!=4.7.0,<8,>=3.7.0 in /workspaces/mlops-zoomcamp/env1/lib/python3.10/site-packages (from mlflow[pipelines]) (7.1.0)\n",
      "Requirement already satisfied: alembic!=1.10.0,<2 in /workspaces/mlops-zoomcamp/env1/lib/python3.10/site-packages (from mlflow[pipelines]) (1.13.2)\n",
      "Requirement already satisfied: opentelemetry-api<3,>=1.9.0 in /workspaces/mlops-zoomcamp/env1/lib/python3.10/site-packages (from mlflow[pipelines]) (1.25.0)\n",
      "Requirement already satisfied: pyarrow<16,>=4.0.0 in /workspaces/mlops-zoomcamp/env1/lib/python3.10/site-packages (from mlflow[pipelines]) (15.0.2)\n",
      "Requirement already satisfied: packaging<25 in /workspaces/mlops-zoomcamp/env1/lib/python3.10/site-packages (from mlflow[pipelines]) (24.1)\n",
      "Requirement already satisfied: protobuf<5,>=3.12.0 in /workspaces/mlops-zoomcamp/env1/lib/python3.10/site-packages (from mlflow[pipelines]) (4.25.3)\n",
      "Requirement already satisfied: requests<3,>=2.17.3 in /workspaces/mlops-zoomcamp/env1/lib/python3.10/site-packages (from mlflow[pipelines]) (2.32.3)\n",
      "Requirement already satisfied: sqlalchemy<3,>=1.4.0 in /workspaces/mlops-zoomcamp/env1/lib/python3.10/site-packages (from mlflow[pipelines]) (2.0.31)\n",
      "Requirement already satisfied: graphene<4 in /workspaces/mlops-zoomcamp/env1/lib/python3.10/site-packages (from mlflow[pipelines]) (3.3)\n",
      "Requirement already satisfied: Mako in /workspaces/mlops-zoomcamp/env1/lib/python3.10/site-packages (from alembic!=1.10.0,<2->mlflow[pipelines]) (1.3.5)\n",
      "Requirement already satisfied: typing-extensions>=4 in /workspaces/mlops-zoomcamp/env1/lib/python3.10/site-packages (from alembic!=1.10.0,<2->mlflow[pipelines]) (4.12.2)\n",
      "Requirement already satisfied: urllib3>=1.26.0 in /workspaces/mlops-zoomcamp/env1/lib/python3.10/site-packages (from docker<8,>=4.0.0->mlflow[pipelines]) (2.2.2)\n",
      "Requirement already satisfied: Werkzeug>=3.0.0 in /workspaces/mlops-zoomcamp/env1/lib/python3.10/site-packages (from Flask<4->mlflow[pipelines]) (3.0.3)\n",
      "Requirement already satisfied: itsdangerous>=2.1.2 in /workspaces/mlops-zoomcamp/env1/lib/python3.10/site-packages (from Flask<4->mlflow[pipelines]) (2.2.0)\n",
      "Requirement already satisfied: blinker>=1.6.2 in /workspaces/mlops-zoomcamp/env1/lib/python3.10/site-packages (from Flask<4->mlflow[pipelines]) (1.8.2)\n",
      "Requirement already satisfied: gitdb<5,>=4.0.1 in /workspaces/mlops-zoomcamp/env1/lib/python3.10/site-packages (from gitpython<4,>=3.1.9->mlflow[pipelines]) (4.0.11)\n",
      "Requirement already satisfied: aniso8601<10,>=8 in /workspaces/mlops-zoomcamp/env1/lib/python3.10/site-packages (from graphene<4->mlflow[pipelines]) (9.0.1)\n",
      "Requirement already satisfied: graphql-relay<3.3,>=3.1 in /workspaces/mlops-zoomcamp/env1/lib/python3.10/site-packages (from graphene<4->mlflow[pipelines]) (3.2.0)\n",
      "Requirement already satisfied: graphql-core<3.3,>=3.1 in /workspaces/mlops-zoomcamp/env1/lib/python3.10/site-packages (from graphene<4->mlflow[pipelines]) (3.2.3)\n",
      "Requirement already satisfied: zipp>=0.5 in /workspaces/mlops-zoomcamp/env1/lib/python3.10/site-packages (from importlib-metadata!=4.7.0,<8,>=3.7.0->mlflow[pipelines]) (3.19.2)\n",
      "Requirement already satisfied: MarkupSafe>=2.0 in /workspaces/mlops-zoomcamp/env1/lib/python3.10/site-packages (from Jinja2<4,>=2.11->mlflow[pipelines]) (2.1.5)\n",
      "Requirement already satisfied: fonttools>=4.22.0 in /workspaces/mlops-zoomcamp/env1/lib/python3.10/site-packages (from matplotlib<4->mlflow[pipelines]) (4.53.0)\n",
      "Requirement already satisfied: contourpy>=1.0.1 in /workspaces/mlops-zoomcamp/env1/lib/python3.10/site-packages (from matplotlib<4->mlflow[pipelines]) (1.2.1)\n",
      "Requirement already satisfied: python-dateutil>=2.7 in /workspaces/mlops-zoomcamp/env1/lib/python3.10/site-packages (from matplotlib<4->mlflow[pipelines]) (2.9.0.post0)\n",
      "Requirement already satisfied: kiwisolver>=1.3.1 in /workspaces/mlops-zoomcamp/env1/lib/python3.10/site-packages (from matplotlib<4->mlflow[pipelines]) (1.4.5)\n",
      "Requirement already satisfied: pyparsing>=2.3.1 in /workspaces/mlops-zoomcamp/env1/lib/python3.10/site-packages (from matplotlib<4->mlflow[pipelines]) (3.1.2)\n",
      "Requirement already satisfied: cycler>=0.10 in /workspaces/mlops-zoomcamp/env1/lib/python3.10/site-packages (from matplotlib<4->mlflow[pipelines]) (0.12.1)\n",
      "Requirement already satisfied: pillow>=8 in /workspaces/mlops-zoomcamp/env1/lib/python3.10/site-packages (from matplotlib<4->mlflow[pipelines]) (10.4.0)\n",
      "Requirement already satisfied: deprecated>=1.2.6 in /workspaces/mlops-zoomcamp/env1/lib/python3.10/site-packages (from opentelemetry-api<3,>=1.9.0->mlflow[pipelines]) (1.2.14)\n",
      "Requirement already satisfied: opentelemetry-semantic-conventions==0.46b0 in /workspaces/mlops-zoomcamp/env1/lib/python3.10/site-packages (from opentelemetry-sdk<3,>=1.9.0->mlflow[pipelines]) (0.46b0)\n",
      "Requirement already satisfied: tzdata>=2022.7 in /workspaces/mlops-zoomcamp/env1/lib/python3.10/site-packages (from pandas<3->mlflow[pipelines]) (2024.1)\n",
      "Requirement already satisfied: six in /workspaces/mlops-zoomcamp/env1/lib/python3.10/site-packages (from querystring-parser<2->mlflow[pipelines]) (1.16.0)\n",
      "Requirement already satisfied: certifi>=2017.4.17 in /workspaces/mlops-zoomcamp/env1/lib/python3.10/site-packages (from requests<3,>=2.17.3->mlflow[pipelines]) (2024.6.2)\n",
      "Requirement already satisfied: idna<4,>=2.5 in /workspaces/mlops-zoomcamp/env1/lib/python3.10/site-packages (from requests<3,>=2.17.3->mlflow[pipelines]) (3.7)\n",
      "Requirement already satisfied: charset-normalizer<4,>=2 in /workspaces/mlops-zoomcamp/env1/lib/python3.10/site-packages (from requests<3,>=2.17.3->mlflow[pipelines]) (3.3.2)\n",
      "Requirement already satisfied: threadpoolctl>=3.1.0 in /workspaces/mlops-zoomcamp/env1/lib/python3.10/site-packages (from scikit-learn<2->mlflow[pipelines]) (3.5.0)\n",
      "Requirement already satisfied: joblib>=1.2.0 in /workspaces/mlops-zoomcamp/env1/lib/python3.10/site-packages (from scikit-learn<2->mlflow[pipelines]) (1.4.2)\n",
      "Requirement already satisfied: greenlet!=0.4.17 in /workspaces/mlops-zoomcamp/env1/lib/python3.10/site-packages (from sqlalchemy<3,>=1.4.0->mlflow[pipelines]) (3.0.3)\n",
      "Requirement already satisfied: wrapt<2,>=1.10 in /workspaces/mlops-zoomcamp/env1/lib/python3.10/site-packages (from deprecated>=1.2.6->opentelemetry-api<3,>=1.9.0->mlflow[pipelines]) (1.16.0)\n",
      "Requirement already satisfied: smmap<6,>=3.0.1 in /workspaces/mlops-zoomcamp/env1/lib/python3.10/site-packages (from gitdb<5,>=4.0.1->gitpython<4,>=3.1.9->mlflow[pipelines]) (5.0.1)\n",
      "\n",
      "\u001b[1m[\u001b[0m\u001b[34;49mnotice\u001b[0m\u001b[1;39;49m]\u001b[0m\u001b[39;49m A new release of pip is available: \u001b[0m\u001b[31;49m23.0.1\u001b[0m\u001b[39;49m -> \u001b[0m\u001b[32;49m24.1.1\u001b[0m\n",
      "\u001b[1m[\u001b[0m\u001b[34;49mnotice\u001b[0m\u001b[1;39;49m]\u001b[0m\u001b[39;49m To update, run: \u001b[0m\u001b[32;49mpip install --upgrade pip\u001b[0m\n",
      "Channels:\n",
      " - conda-forge\n",
      " - defaults\n",
      "Platform: linux-64\n",
      "Collecting package metadata (repodata.json): done\n",
      "Solving environment: \u001b[33m\u001b[1mwarning  libmamba\u001b[m Added empty dependency for problem type SOLVER_RULE_UPDATE\n",
      "failed\n",
      "\n",
      "LibMambaUnsatisfiableError: Encountered problems while solving:\n",
      "  - package mlflow-pipelines-1.28.0-py310h56eec8b_0 requires python >=3.10,<3.11.0a0, but none of the providers can be installed\n",
      "\n",
      "Could not solve for environment specs\n",
      "The following packages are incompatible\n",
      "├─ \u001b[32mmlflow-pipelines\u001b[0m is installable with the potential options\n",
      "│  ├─ \u001b[32mmlflow-pipelines [1.28.0|1.29.0|1.30.0]\u001b[0m would require\n",
      "│  │  └─ \u001b[32mpython >=3.10,<3.11.0a0 \u001b[0m, which can be installed;\n",
      "│  ├─ \u001b[32mmlflow-pipelines [1.28.0|1.29.0|1.30.0]\u001b[0m would require\n",
      "│  │  └─ \u001b[32mpython >=3.7,<3.8.0a0 \u001b[0m, which can be installed;\n",
      "│  ├─ \u001b[32mmlflow-pipelines [1.28.0|1.29.0|1.30.0]\u001b[0m would require\n",
      "│  │  └─ \u001b[32mpython >=3.8,<3.9.0a0 \u001b[0m, which can be installed;\n",
      "│  └─ \u001b[32mmlflow-pipelines [1.28.0|1.29.0|1.30.0]\u001b[0m would require\n",
      "│     └─ \u001b[32mpython >=3.9,<3.10.0a0 \u001b[0m, which can be installed;\n",
      "└─ \u001b[31mpin-1\u001b[0m is not installable because it requires\n",
      "   └─ \u001b[31mpython 3.12.* \u001b[0m, which conflicts with any installable versions previously reported.\n",
      "\n",
      "Requirement already satisfied: mlflow[extras] in /workspaces/mlops-zoomcamp/env1/lib/python3.10/site-packages (2.14.1)\n",
      "Requirement already satisfied: importlib-metadata!=4.7.0,<8,>=3.7.0 in /workspaces/mlops-zoomcamp/env1/lib/python3.10/site-packages (from mlflow[extras]) (7.1.0)\n",
      "Requirement already satisfied: cachetools<6,>=5.0.0 in /workspaces/mlops-zoomcamp/env1/lib/python3.10/site-packages (from mlflow[extras]) (5.3.3)\n",
      "Requirement already satisfied: requests<3,>=2.17.3 in /workspaces/mlops-zoomcamp/env1/lib/python3.10/site-packages (from mlflow[extras]) (2.32.3)\n",
      "Requirement already satisfied: Flask<4 in /workspaces/mlops-zoomcamp/env1/lib/python3.10/site-packages (from mlflow[extras]) (3.0.3)\n",
      "Requirement already satisfied: gitpython<4,>=3.1.9 in /workspaces/mlops-zoomcamp/env1/lib/python3.10/site-packages (from mlflow[extras]) (3.1.43)\n",
      "Requirement already satisfied: graphene<4 in /workspaces/mlops-zoomcamp/env1/lib/python3.10/site-packages (from mlflow[extras]) (3.3)\n",
      "Requirement already satisfied: pyyaml<7,>=5.1 in /workspaces/mlops-zoomcamp/env1/lib/python3.10/site-packages (from mlflow[extras]) (6.0.1)\n",
      "Requirement already satisfied: scipy<2 in /workspaces/mlops-zoomcamp/env1/lib/python3.10/site-packages (from mlflow[extras]) (1.14.0)\n",
      "Requirement already satisfied: scikit-learn<2 in /workspaces/mlops-zoomcamp/env1/lib/python3.10/site-packages (from mlflow[extras]) (1.5.0)\n",
      "Requirement already satisfied: pyarrow<16,>=4.0.0 in /workspaces/mlops-zoomcamp/env1/lib/python3.10/site-packages (from mlflow[extras]) (15.0.2)\n",
      "Requirement already satisfied: pandas<3 in /workspaces/mlops-zoomcamp/env1/lib/python3.10/site-packages (from mlflow[extras]) (2.2.2)\n",
      "Requirement already satisfied: protobuf<5,>=3.12.0 in /workspaces/mlops-zoomcamp/env1/lib/python3.10/site-packages (from mlflow[extras]) (4.25.3)\n",
      "Requirement already satisfied: markdown<4,>=3.3 in /workspaces/mlops-zoomcamp/env1/lib/python3.10/site-packages (from mlflow[extras]) (3.6)\n",
      "Requirement already satisfied: opentelemetry-api<3,>=1.9.0 in /workspaces/mlops-zoomcamp/env1/lib/python3.10/site-packages (from mlflow[extras]) (1.25.0)\n",
      "Requirement already satisfied: gunicorn<23 in /workspaces/mlops-zoomcamp/env1/lib/python3.10/site-packages (from mlflow[extras]) (22.0.0)\n",
      "Requirement already satisfied: querystring-parser<2 in /workspaces/mlops-zoomcamp/env1/lib/python3.10/site-packages (from mlflow[extras]) (1.2.4)\n",
      "Requirement already satisfied: numpy<2 in /workspaces/mlops-zoomcamp/env1/lib/python3.10/site-packages (from mlflow[extras]) (1.26.4)\n",
      "Requirement already satisfied: entrypoints<1 in /workspaces/mlops-zoomcamp/env1/lib/python3.10/site-packages (from mlflow[extras]) (0.4)\n",
      "Requirement already satisfied: opentelemetry-sdk<3,>=1.9.0 in /workspaces/mlops-zoomcamp/env1/lib/python3.10/site-packages (from mlflow[extras]) (1.25.0)\n",
      "Requirement already satisfied: sqlparse<1,>=0.4.0 in /workspaces/mlops-zoomcamp/env1/lib/python3.10/site-packages (from mlflow[extras]) (0.5.0)\n",
      "Requirement already satisfied: alembic!=1.10.0,<2 in /workspaces/mlops-zoomcamp/env1/lib/python3.10/site-packages (from mlflow[extras]) (1.13.2)\n",
      "Requirement already satisfied: sqlalchemy<3,>=1.4.0 in /workspaces/mlops-zoomcamp/env1/lib/python3.10/site-packages (from mlflow[extras]) (2.0.31)\n",
      "Requirement already satisfied: packaging<25 in /workspaces/mlops-zoomcamp/env1/lib/python3.10/site-packages (from mlflow[extras]) (24.1)\n",
      "Requirement already satisfied: matplotlib<4 in /workspaces/mlops-zoomcamp/env1/lib/python3.10/site-packages (from mlflow[extras]) (3.9.0)\n",
      "Requirement already satisfied: pytz<2025 in /workspaces/mlops-zoomcamp/env1/lib/python3.10/site-packages (from mlflow[extras]) (2024.1)\n",
      "Requirement already satisfied: docker<8,>=4.0.0 in /workspaces/mlops-zoomcamp/env1/lib/python3.10/site-packages (from mlflow[extras]) (7.1.0)\n",
      "Requirement already satisfied: cloudpickle<4 in /workspaces/mlops-zoomcamp/env1/lib/python3.10/site-packages (from mlflow[extras]) (3.0.0)\n",
      "Requirement already satisfied: click<9,>=7.0 in /workspaces/mlops-zoomcamp/env1/lib/python3.10/site-packages (from mlflow[extras]) (8.1.7)\n",
      "Requirement already satisfied: Jinja2<4,>=2.11 in /workspaces/mlops-zoomcamp/env1/lib/python3.10/site-packages (from mlflow[extras]) (3.1.4)\n",
      "Requirement already satisfied: requests-auth-aws-sigv4 in /workspaces/mlops-zoomcamp/env1/lib/python3.10/site-packages (from mlflow[extras]) (0.7)\n",
      "Requirement already satisfied: botocore in /workspaces/mlops-zoomcamp/env1/lib/python3.10/site-packages (from mlflow[extras]) (1.34.136)\n",
      "Requirement already satisfied: mlserver!=1.3.1,<1.4.0,>=1.2.0 in /workspaces/mlops-zoomcamp/env1/lib/python3.10/site-packages (from mlflow[extras]) (1.3.5)\n",
      "Requirement already satisfied: google-cloud-storage>=1.30.0 in /workspaces/mlops-zoomcamp/env1/lib/python3.10/site-packages (from mlflow[extras]) (2.17.0)\n",
      "Requirement already satisfied: virtualenv in /workspaces/mlops-zoomcamp/env1/lib/python3.10/site-packages (from mlflow[extras]) (20.26.3)\n",
      "Requirement already satisfied: prometheus-flask-exporter in /workspaces/mlops-zoomcamp/env1/lib/python3.10/site-packages (from mlflow[extras]) (0.23.0)\n",
      "Requirement already satisfied: boto3 in /workspaces/mlops-zoomcamp/env1/lib/python3.10/site-packages (from mlflow[extras]) (1.34.136)\n",
      "Requirement already satisfied: azureml-core>=1.2.0 in /workspaces/mlops-zoomcamp/env1/lib/python3.10/site-packages (from mlflow[extras]) (1.56.0)\n",
      "Requirement already satisfied: mlserver-mlflow!=1.3.1,<1.4.0,>=1.2.0 in /workspaces/mlops-zoomcamp/env1/lib/python3.10/site-packages (from mlflow[extras]) (1.3.5)\n",
      "Requirement already satisfied: pysftp in /workspaces/mlops-zoomcamp/env1/lib/python3.10/site-packages (from mlflow[extras]) (0.2.9)\n",
      "Requirement already satisfied: kubernetes in /workspaces/mlops-zoomcamp/env1/lib/python3.10/site-packages (from mlflow[extras]) (30.1.0)\n",
      "Requirement already satisfied: typing-extensions>=4 in /workspaces/mlops-zoomcamp/env1/lib/python3.10/site-packages (from alembic!=1.10.0,<2->mlflow[extras]) (4.12.2)\n",
      "Requirement already satisfied: Mako in /workspaces/mlops-zoomcamp/env1/lib/python3.10/site-packages (from alembic!=1.10.0,<2->mlflow[extras]) (1.3.5)\n",
      "Requirement already satisfied: contextlib2<22.0.0 in /workspaces/mlops-zoomcamp/env1/lib/python3.10/site-packages (from azureml-core>=1.2.0->mlflow[extras]) (21.6.0)\n",
      "Requirement already satisfied: azure-core<2.0.0 in /workspaces/mlops-zoomcamp/env1/lib/python3.10/site-packages (from azureml-core>=1.2.0->mlflow[extras]) (1.30.2)\n",
      "Requirement already satisfied: python-dateutil<3.0.0,>=2.7.3 in /workspaces/mlops-zoomcamp/env1/lib/python3.10/site-packages (from azureml-core>=1.2.0->mlflow[extras]) (2.9.0.post0)\n",
      "Requirement already satisfied: azure-common<2.0.0,>=1.1.12 in /workspaces/mlops-zoomcamp/env1/lib/python3.10/site-packages (from azureml-core>=1.2.0->mlflow[extras]) (1.1.28)\n",
      "Requirement already satisfied: argcomplete<4 in /workspaces/mlops-zoomcamp/env1/lib/python3.10/site-packages (from azureml-core>=1.2.0->mlflow[extras]) (3.4.0)\n",
      "Requirement already satisfied: backports.tempfile in /workspaces/mlops-zoomcamp/env1/lib/python3.10/site-packages (from azureml-core>=1.2.0->mlflow[extras]) (1.0)\n",
      "Requirement already satisfied: adal<=1.2.7,>=1.2.0 in /workspaces/mlops-zoomcamp/env1/lib/python3.10/site-packages (from azureml-core>=1.2.0->mlflow[extras]) (1.2.7)\n",
      "Requirement already satisfied: ndg-httpsclient<=0.5.1 in /workspaces/mlops-zoomcamp/env1/lib/python3.10/site-packages (from azureml-core>=1.2.0->mlflow[extras]) (0.5.1)\n",
      "Requirement already satisfied: azure-mgmt-containerregistry<11,>=8.2.0 in /workspaces/mlops-zoomcamp/env1/lib/python3.10/site-packages (from azureml-core>=1.2.0->mlflow[extras]) (10.3.0)\n",
      "Requirement already satisfied: urllib3<3.0.0,>1.26.17 in /workspaces/mlops-zoomcamp/env1/lib/python3.10/site-packages (from azureml-core>=1.2.0->mlflow[extras]) (2.2.2)\n",
      "Requirement already satisfied: azure-mgmt-storage<=22.0.0,>=16.0.0 in /workspaces/mlops-zoomcamp/env1/lib/python3.10/site-packages (from azureml-core>=1.2.0->mlflow[extras]) (21.2.1)\n",
      "Requirement already satisfied: azure-mgmt-keyvault<11.0.0,>=0.40.0 in /workspaces/mlops-zoomcamp/env1/lib/python3.10/site-packages (from azureml-core>=1.2.0->mlflow[extras]) (10.3.0)\n",
      "Requirement already satisfied: jmespath<2.0.0 in /workspaces/mlops-zoomcamp/env1/lib/python3.10/site-packages (from azureml-core>=1.2.0->mlflow[extras]) (1.0.1)\n",
      "Requirement already satisfied: msrestazure<=0.6.4,>=0.4.33 in /workspaces/mlops-zoomcamp/env1/lib/python3.10/site-packages (from azureml-core>=1.2.0->mlflow[extras]) (0.6.4)\n",
      "Requirement already satisfied: SecretStorage<4.0.0 in /workspaces/mlops-zoomcamp/env1/lib/python3.10/site-packages (from azureml-core>=1.2.0->mlflow[extras]) (3.3.3)\n",
      "Requirement already satisfied: azure-mgmt-resource<=24.0.0,>=15.0.0 in /workspaces/mlops-zoomcamp/env1/lib/python3.10/site-packages (from azureml-core>=1.2.0->mlflow[extras]) (23.1.1)\n",
      "Requirement already satisfied: knack<0.12.0 in /workspaces/mlops-zoomcamp/env1/lib/python3.10/site-packages (from azureml-core>=1.2.0->mlflow[extras]) (0.11.0)\n",
      "Requirement already satisfied: jsonpickle<4.0.0 in /workspaces/mlops-zoomcamp/env1/lib/python3.10/site-packages (from azureml-core>=1.2.0->mlflow[extras]) (3.2.2)\n",
      "Requirement already satisfied: msal-extensions<=2.0.0,>=0.3.0 in /workspaces/mlops-zoomcamp/env1/lib/python3.10/site-packages (from azureml-core>=1.2.0->mlflow[extras]) (1.2.0)\n",
      "Requirement already satisfied: azure-graphrbac<1.0.0,>=0.40.0 in /workspaces/mlops-zoomcamp/env1/lib/python3.10/site-packages (from azureml-core>=1.2.0->mlflow[extras]) (0.61.1)\n",
      "Requirement already satisfied: pathspec<1.0.0 in /workspaces/mlops-zoomcamp/env1/lib/python3.10/site-packages (from azureml-core>=1.2.0->mlflow[extras]) (0.12.1)\n",
      "Requirement already satisfied: msal<2.0.0,>=1.15.0 in /workspaces/mlops-zoomcamp/env1/lib/python3.10/site-packages (from azureml-core>=1.2.0->mlflow[extras]) (1.29.0)\n",
      "Requirement already satisfied: pyopenssl<25.0.0 in /workspaces/mlops-zoomcamp/env1/lib/python3.10/site-packages (from azureml-core>=1.2.0->mlflow[extras]) (24.1.0)\n",
      "Requirement already satisfied: pkginfo in /workspaces/mlops-zoomcamp/env1/lib/python3.10/site-packages (from azureml-core>=1.2.0->mlflow[extras]) (1.11.1)\n",
      "Requirement already satisfied: paramiko<4.0.0,>=2.0.8 in /workspaces/mlops-zoomcamp/env1/lib/python3.10/site-packages (from azureml-core>=1.2.0->mlflow[extras]) (3.4.0)\n",
      "Requirement already satisfied: azure-mgmt-network<=26.0.0 in /workspaces/mlops-zoomcamp/env1/lib/python3.10/site-packages (from azureml-core>=1.2.0->mlflow[extras]) (25.4.0)\n",
      "Requirement already satisfied: msrest<=0.7.1,>=0.5.1 in /workspaces/mlops-zoomcamp/env1/lib/python3.10/site-packages (from azureml-core>=1.2.0->mlflow[extras]) (0.7.1)\n",
      "Requirement already satisfied: azure-mgmt-authorization<5,>=0.40.0 in /workspaces/mlops-zoomcamp/env1/lib/python3.10/site-packages (from azureml-core>=1.2.0->mlflow[extras]) (4.0.0)\n",
      "Requirement already satisfied: PyJWT<3.0.0 in /workspaces/mlops-zoomcamp/env1/lib/python3.10/site-packages (from azureml-core>=1.2.0->mlflow[extras]) (2.8.0)\n",
      "Requirement already satisfied: humanfriendly<11.0,>=4.7 in /workspaces/mlops-zoomcamp/env1/lib/python3.10/site-packages (from azureml-core>=1.2.0->mlflow[extras]) (10.0)\n",
      "Requirement already satisfied: itsdangerous>=2.1.2 in /workspaces/mlops-zoomcamp/env1/lib/python3.10/site-packages (from Flask<4->mlflow[extras]) (2.2.0)\n",
      "Requirement already satisfied: blinker>=1.6.2 in /workspaces/mlops-zoomcamp/env1/lib/python3.10/site-packages (from Flask<4->mlflow[extras]) (1.8.2)\n",
      "Requirement already satisfied: Werkzeug>=3.0.0 in /workspaces/mlops-zoomcamp/env1/lib/python3.10/site-packages (from Flask<4->mlflow[extras]) (3.0.3)\n",
      "Requirement already satisfied: gitdb<5,>=4.0.1 in /workspaces/mlops-zoomcamp/env1/lib/python3.10/site-packages (from gitpython<4,>=3.1.9->mlflow[extras]) (4.0.11)\n",
      "Requirement already satisfied: google-auth<3.0dev,>=2.26.1 in /workspaces/mlops-zoomcamp/env1/lib/python3.10/site-packages (from google-cloud-storage>=1.30.0->mlflow[extras]) (2.30.0)\n",
      "Requirement already satisfied: google-resumable-media>=2.6.0 in /workspaces/mlops-zoomcamp/env1/lib/python3.10/site-packages (from google-cloud-storage>=1.30.0->mlflow[extras]) (2.7.1)\n",
      "Requirement already satisfied: google-crc32c<2.0dev,>=1.0 in /workspaces/mlops-zoomcamp/env1/lib/python3.10/site-packages (from google-cloud-storage>=1.30.0->mlflow[extras]) (1.5.0)\n",
      "Requirement already satisfied: google-api-core<3.0.0dev,>=2.15.0 in /workspaces/mlops-zoomcamp/env1/lib/python3.10/site-packages (from google-cloud-storage>=1.30.0->mlflow[extras]) (2.19.1)\n",
      "Requirement already satisfied: google-cloud-core<3.0dev,>=2.3.0 in /workspaces/mlops-zoomcamp/env1/lib/python3.10/site-packages (from google-cloud-storage>=1.30.0->mlflow[extras]) (2.4.1)\n",
      "Requirement already satisfied: graphql-core<3.3,>=3.1 in /workspaces/mlops-zoomcamp/env1/lib/python3.10/site-packages (from graphene<4->mlflow[extras]) (3.2.3)\n",
      "Requirement already satisfied: graphql-relay<3.3,>=3.1 in /workspaces/mlops-zoomcamp/env1/lib/python3.10/site-packages (from graphene<4->mlflow[extras]) (3.2.0)\n",
      "Requirement already satisfied: aniso8601<10,>=8 in /workspaces/mlops-zoomcamp/env1/lib/python3.10/site-packages (from graphene<4->mlflow[extras]) (9.0.1)\n",
      "Requirement already satisfied: zipp>=0.5 in /workspaces/mlops-zoomcamp/env1/lib/python3.10/site-packages (from importlib-metadata!=4.7.0,<8,>=3.7.0->mlflow[extras]) (3.19.2)\n",
      "Requirement already satisfied: MarkupSafe>=2.0 in /workspaces/mlops-zoomcamp/env1/lib/python3.10/site-packages (from Jinja2<4,>=2.11->mlflow[extras]) (2.1.5)\n",
      "Requirement already satisfied: cycler>=0.10 in /workspaces/mlops-zoomcamp/env1/lib/python3.10/site-packages (from matplotlib<4->mlflow[extras]) (0.12.1)\n",
      "Requirement already satisfied: kiwisolver>=1.3.1 in /workspaces/mlops-zoomcamp/env1/lib/python3.10/site-packages (from matplotlib<4->mlflow[extras]) (1.4.5)\n",
      "Requirement already satisfied: contourpy>=1.0.1 in /workspaces/mlops-zoomcamp/env1/lib/python3.10/site-packages (from matplotlib<4->mlflow[extras]) (1.2.1)\n",
      "Requirement already satisfied: pillow>=8 in /workspaces/mlops-zoomcamp/env1/lib/python3.10/site-packages (from matplotlib<4->mlflow[extras]) (10.4.0)\n",
      "Requirement already satisfied: fonttools>=4.22.0 in /workspaces/mlops-zoomcamp/env1/lib/python3.10/site-packages (from matplotlib<4->mlflow[extras]) (4.53.0)\n",
      "Requirement already satisfied: pyparsing>=2.3.1 in /workspaces/mlops-zoomcamp/env1/lib/python3.10/site-packages (from matplotlib<4->mlflow[extras]) (3.1.2)\n",
      "Requirement already satisfied: uvloop in /workspaces/mlops-zoomcamp/env1/lib/python3.10/site-packages (from mlserver!=1.3.1,<1.4.0,>=1.2.0->mlflow[extras]) (0.19.0)\n",
      "Requirement already satisfied: aiokafka in /workspaces/mlops-zoomcamp/env1/lib/python3.10/site-packages (from mlserver!=1.3.1,<1.4.0,>=1.2.0->mlflow[extras]) (0.11.0)\n",
      "Requirement already satisfied: importlib-resources in /workspaces/mlops-zoomcamp/env1/lib/python3.10/site-packages (from mlserver!=1.3.1,<1.4.0,>=1.2.0->mlflow[extras]) (6.4.0)\n",
      "Requirement already satisfied: aiofiles in /workspaces/mlops-zoomcamp/env1/lib/python3.10/site-packages (from mlserver!=1.3.1,<1.4.0,>=1.2.0->mlflow[extras]) (24.1.0)\n",
      "Requirement already satisfied: orjson in /workspaces/mlops-zoomcamp/env1/lib/python3.10/site-packages (from mlserver!=1.3.1,<1.4.0,>=1.2.0->mlflow[extras]) (3.10.5)\n",
      "Requirement already satisfied: fastapi!=0.89.0,<=0.89.1,>=0.88.0 in /workspaces/mlops-zoomcamp/env1/lib/python3.10/site-packages (from mlserver!=1.3.1,<1.4.0,>=1.2.0->mlflow[extras]) (0.89.1)\n",
      "Requirement already satisfied: python-dotenv in /workspaces/mlops-zoomcamp/env1/lib/python3.10/site-packages (from mlserver!=1.3.1,<1.4.0,>=1.2.0->mlflow[extras]) (1.0.1)\n",
      "Requirement already satisfied: uvicorn in /workspaces/mlops-zoomcamp/env1/lib/python3.10/site-packages (from mlserver!=1.3.1,<1.4.0,>=1.2.0->mlflow[extras]) (0.30.1)\n",
      "Requirement already satisfied: py-grpc-prometheus in /workspaces/mlops-zoomcamp/env1/lib/python3.10/site-packages (from mlserver!=1.3.1,<1.4.0,>=1.2.0->mlflow[extras]) (0.8.0)\n",
      "Requirement already satisfied: starlette-exporter in /workspaces/mlops-zoomcamp/env1/lib/python3.10/site-packages (from mlserver!=1.3.1,<1.4.0,>=1.2.0->mlflow[extras]) (0.17.1)\n",
      "Requirement already satisfied: tritonclient[http]>=2.24 in /workspaces/mlops-zoomcamp/env1/lib/python3.10/site-packages (from mlserver!=1.3.1,<1.4.0,>=1.2.0->mlflow[extras]) (2.47.0)\n",
      "Requirement already satisfied: grpcio in /workspaces/mlops-zoomcamp/env1/lib/python3.10/site-packages (from mlserver!=1.3.1,<1.4.0,>=1.2.0->mlflow[extras]) (1.64.1)\n",
      "Requirement already satisfied: deprecated>=1.2.6 in /workspaces/mlops-zoomcamp/env1/lib/python3.10/site-packages (from opentelemetry-api<3,>=1.9.0->mlflow[extras]) (1.2.14)\n",
      "Requirement already satisfied: opentelemetry-semantic-conventions==0.46b0 in /workspaces/mlops-zoomcamp/env1/lib/python3.10/site-packages (from opentelemetry-sdk<3,>=1.9.0->mlflow[extras]) (0.46b0)\n",
      "Requirement already satisfied: tzdata>=2022.7 in /workspaces/mlops-zoomcamp/env1/lib/python3.10/site-packages (from pandas<3->mlflow[extras]) (2024.1)\n",
      "Requirement already satisfied: six in /workspaces/mlops-zoomcamp/env1/lib/python3.10/site-packages (from querystring-parser<2->mlflow[extras]) (1.16.0)\n",
      "Requirement already satisfied: certifi>=2017.4.17 in /workspaces/mlops-zoomcamp/env1/lib/python3.10/site-packages (from requests<3,>=2.17.3->mlflow[extras]) (2024.6.2)\n",
      "Requirement already satisfied: idna<4,>=2.5 in /workspaces/mlops-zoomcamp/env1/lib/python3.10/site-packages (from requests<3,>=2.17.3->mlflow[extras]) (3.7)\n",
      "Requirement already satisfied: charset-normalizer<4,>=2 in /workspaces/mlops-zoomcamp/env1/lib/python3.10/site-packages (from requests<3,>=2.17.3->mlflow[extras]) (3.3.2)\n",
      "Requirement already satisfied: joblib>=1.2.0 in /workspaces/mlops-zoomcamp/env1/lib/python3.10/site-packages (from scikit-learn<2->mlflow[extras]) (1.4.2)\n",
      "Requirement already satisfied: threadpoolctl>=3.1.0 in /workspaces/mlops-zoomcamp/env1/lib/python3.10/site-packages (from scikit-learn<2->mlflow[extras]) (3.5.0)\n",
      "Requirement already satisfied: greenlet!=0.4.17 in /workspaces/mlops-zoomcamp/env1/lib/python3.10/site-packages (from sqlalchemy<3,>=1.4.0->mlflow[extras]) (3.0.3)\n",
      "Requirement already satisfied: s3transfer<0.11.0,>=0.10.0 in /workspaces/mlops-zoomcamp/env1/lib/python3.10/site-packages (from boto3->mlflow[extras]) (0.10.2)\n",
      "Requirement already satisfied: requests-oauthlib in /workspaces/mlops-zoomcamp/env1/lib/python3.10/site-packages (from kubernetes->mlflow[extras]) (2.0.0)\n",
      "Requirement already satisfied: oauthlib>=3.2.2 in /workspaces/mlops-zoomcamp/env1/lib/python3.10/site-packages (from kubernetes->mlflow[extras]) (3.2.2)\n",
      "Requirement already satisfied: websocket-client!=0.40.0,!=0.41.*,!=0.42.*,>=0.32.0 in /workspaces/mlops-zoomcamp/env1/lib/python3.10/site-packages (from kubernetes->mlflow[extras]) (1.8.0)\n",
      "Requirement already satisfied: prometheus-client in /workspaces/mlops-zoomcamp/env1/lib/python3.10/site-packages (from prometheus-flask-exporter->mlflow[extras]) (0.20.0)\n",
      "Requirement already satisfied: distlib<1,>=0.3.7 in /workspaces/mlops-zoomcamp/env1/lib/python3.10/site-packages (from virtualenv->mlflow[extras]) (0.3.8)\n",
      "Requirement already satisfied: filelock<4,>=3.12.2 in /workspaces/mlops-zoomcamp/env1/lib/python3.10/site-packages (from virtualenv->mlflow[extras]) (3.15.4)\n",
      "Requirement already satisfied: platformdirs<5,>=3.9.1 in /workspaces/mlops-zoomcamp/env1/lib/python3.10/site-packages (from virtualenv->mlflow[extras]) (4.2.2)\n",
      "Requirement already satisfied: cryptography>=1.1.0 in /workspaces/mlops-zoomcamp/env1/lib/python3.10/site-packages (from adal<=1.2.7,>=1.2.0->azureml-core>=1.2.0->mlflow[extras]) (42.0.8)\n",
      "Requirement already satisfied: isodate<1.0.0,>=0.6.1 in /workspaces/mlops-zoomcamp/env1/lib/python3.10/site-packages (from azure-mgmt-authorization<5,>=0.40.0->azureml-core>=1.2.0->mlflow[extras]) (0.6.1)\n",
      "Requirement already satisfied: azure-mgmt-core<2.0.0,>=1.3.2 in /workspaces/mlops-zoomcamp/env1/lib/python3.10/site-packages (from azure-mgmt-authorization<5,>=0.40.0->azureml-core>=1.2.0->mlflow[extras]) (1.4.0)\n",
      "Requirement already satisfied: wrapt<2,>=1.10 in /workspaces/mlops-zoomcamp/env1/lib/python3.10/site-packages (from deprecated>=1.2.6->opentelemetry-api<3,>=1.9.0->mlflow[extras]) (1.16.0)\n",
      "Requirement already satisfied: starlette==0.22.0 in /workspaces/mlops-zoomcamp/env1/lib/python3.10/site-packages (from fastapi!=0.89.0,<=0.89.1,>=0.88.0->mlserver!=1.3.1,<1.4.0,>=1.2.0->mlflow[extras]) (0.22.0)\n",
      "Requirement already satisfied: pydantic!=1.7,!=1.7.1,!=1.7.2,!=1.7.3,!=1.8,!=1.8.1,<2.0.0,>=1.6.2 in /workspaces/mlops-zoomcamp/env1/lib/python3.10/site-packages (from fastapi!=0.89.0,<=0.89.1,>=0.88.0->mlserver!=1.3.1,<1.4.0,>=1.2.0->mlflow[extras]) (1.10.17)\n",
      "Requirement already satisfied: anyio<5,>=3.4.0 in /workspaces/mlops-zoomcamp/env1/lib/python3.10/site-packages (from starlette==0.22.0->fastapi!=0.89.0,<=0.89.1,>=0.88.0->mlserver!=1.3.1,<1.4.0,>=1.2.0->mlflow[extras]) (4.4.0)\n",
      "Requirement already satisfied: smmap<6,>=3.0.1 in /workspaces/mlops-zoomcamp/env1/lib/python3.10/site-packages (from gitdb<5,>=4.0.1->gitpython<4,>=3.1.9->mlflow[extras]) (5.0.1)\n",
      "Requirement already satisfied: proto-plus<2.0.0dev,>=1.22.3 in /workspaces/mlops-zoomcamp/env1/lib/python3.10/site-packages (from google-api-core<3.0.0dev,>=2.15.0->google-cloud-storage>=1.30.0->mlflow[extras]) (1.24.0)\n",
      "Requirement already satisfied: googleapis-common-protos<2.0.dev0,>=1.56.2 in /workspaces/mlops-zoomcamp/env1/lib/python3.10/site-packages (from google-api-core<3.0.0dev,>=2.15.0->google-cloud-storage>=1.30.0->mlflow[extras]) (1.63.2)\n",
      "Requirement already satisfied: pyasn1-modules>=0.2.1 in /workspaces/mlops-zoomcamp/env1/lib/python3.10/site-packages (from google-auth<3.0dev,>=2.26.1->google-cloud-storage>=1.30.0->mlflow[extras]) (0.4.0)\n",
      "Requirement already satisfied: rsa<5,>=3.1.4 in /workspaces/mlops-zoomcamp/env1/lib/python3.10/site-packages (from google-auth<3.0dev,>=2.26.1->google-cloud-storage>=1.30.0->mlflow[extras]) (4.9)\n",
      "Requirement already satisfied: tabulate in /workspaces/mlops-zoomcamp/env1/lib/python3.10/site-packages (from knack<0.12.0->azureml-core>=1.2.0->mlflow[extras]) (0.9.0)\n",
      "Requirement already satisfied: pygments in /workspaces/mlops-zoomcamp/env1/lib/python3.10/site-packages (from knack<0.12.0->azureml-core>=1.2.0->mlflow[extras]) (2.18.0)\n",
      "Requirement already satisfied: portalocker<3,>=1.4 in /workspaces/mlops-zoomcamp/env1/lib/python3.10/site-packages (from msal-extensions<=2.0.0,>=0.3.0->azureml-core>=1.2.0->mlflow[extras]) (2.10.0)\n",
      "Requirement already satisfied: pyasn1>=0.1.1 in /workspaces/mlops-zoomcamp/env1/lib/python3.10/site-packages (from ndg-httpsclient<=0.5.1->azureml-core>=1.2.0->mlflow[extras]) (0.6.0)\n",
      "Requirement already satisfied: pynacl>=1.5 in /workspaces/mlops-zoomcamp/env1/lib/python3.10/site-packages (from paramiko<4.0.0,>=2.0.8->azureml-core>=1.2.0->mlflow[extras]) (1.5.0)\n",
      "Requirement already satisfied: bcrypt>=3.2 in /workspaces/mlops-zoomcamp/env1/lib/python3.10/site-packages (from paramiko<4.0.0,>=2.0.8->azureml-core>=1.2.0->mlflow[extras]) (4.1.3)\n",
      "Requirement already satisfied: PySocks!=1.5.7,>=1.5.6 in /workspaces/mlops-zoomcamp/env1/lib/python3.10/site-packages (from requests<3,>=2.17.3->mlflow[extras]) (1.7.1)\n",
      "Requirement already satisfied: jeepney>=0.6 in /workspaces/mlops-zoomcamp/env1/lib/python3.10/site-packages (from SecretStorage<4.0.0->azureml-core>=1.2.0->mlflow[extras]) (0.8.0)\n",
      "Requirement already satisfied: python-rapidjson>=0.9.1 in /workspaces/mlops-zoomcamp/env1/lib/python3.10/site-packages (from tritonclient[http]>=2.24->mlserver!=1.3.1,<1.4.0,>=1.2.0->mlflow[extras]) (1.18)\n",
      "Requirement already satisfied: geventhttpclient<=2.0.2,>=1.4.4 in /workspaces/mlops-zoomcamp/env1/lib/python3.10/site-packages (from tritonclient[http]>=2.24->mlserver!=1.3.1,<1.4.0,>=1.2.0->mlflow[extras]) (2.0.2)\n",
      "Requirement already satisfied: aiohttp<4.0.0,>=3.8.1 in /workspaces/mlops-zoomcamp/env1/lib/python3.10/site-packages (from tritonclient[http]>=2.24->mlserver!=1.3.1,<1.4.0,>=1.2.0->mlflow[extras]) (3.9.5)\n",
      "Requirement already satisfied: async-timeout in /workspaces/mlops-zoomcamp/env1/lib/python3.10/site-packages (from aiokafka->mlserver!=1.3.1,<1.4.0,>=1.2.0->mlflow[extras]) (4.0.3)\n",
      "Requirement already satisfied: backports.weakref in /workspaces/mlops-zoomcamp/env1/lib/python3.10/site-packages (from backports.tempfile->azureml-core>=1.2.0->mlflow[extras]) (1.0.post1)\n",
      "Requirement already satisfied: setuptools>=39.0.1 in /workspaces/mlops-zoomcamp/env1/lib/python3.10/site-packages (from py-grpc-prometheus->mlserver!=1.3.1,<1.4.0,>=1.2.0->mlflow[extras]) (65.5.0)\n",
      "Requirement already satisfied: h11>=0.8 in /workspaces/mlops-zoomcamp/env1/lib/python3.10/site-packages (from uvicorn->mlserver!=1.3.1,<1.4.0,>=1.2.0->mlflow[extras]) (0.14.0)\n",
      "Requirement already satisfied: aiosignal>=1.1.2 in /workspaces/mlops-zoomcamp/env1/lib/python3.10/site-packages (from aiohttp<4.0.0,>=3.8.1->tritonclient[http]>=2.24->mlserver!=1.3.1,<1.4.0,>=1.2.0->mlflow[extras]) (1.3.1)\n",
      "Requirement already satisfied: yarl<2.0,>=1.0 in /workspaces/mlops-zoomcamp/env1/lib/python3.10/site-packages (from aiohttp<4.0.0,>=3.8.1->tritonclient[http]>=2.24->mlserver!=1.3.1,<1.4.0,>=1.2.0->mlflow[extras]) (1.9.4)\n",
      "Requirement already satisfied: frozenlist>=1.1.1 in /workspaces/mlops-zoomcamp/env1/lib/python3.10/site-packages (from aiohttp<4.0.0,>=3.8.1->tritonclient[http]>=2.24->mlserver!=1.3.1,<1.4.0,>=1.2.0->mlflow[extras]) (1.4.1)\n",
      "Requirement already satisfied: attrs>=17.3.0 in /workspaces/mlops-zoomcamp/env1/lib/python3.10/site-packages (from aiohttp<4.0.0,>=3.8.1->tritonclient[http]>=2.24->mlserver!=1.3.1,<1.4.0,>=1.2.0->mlflow[extras]) (23.2.0)\n",
      "Requirement already satisfied: multidict<7.0,>=4.5 in /workspaces/mlops-zoomcamp/env1/lib/python3.10/site-packages (from aiohttp<4.0.0,>=3.8.1->tritonclient[http]>=2.24->mlserver!=1.3.1,<1.4.0,>=1.2.0->mlflow[extras]) (6.0.5)\n",
      "Requirement already satisfied: cffi>=1.12 in /workspaces/mlops-zoomcamp/env1/lib/python3.10/site-packages (from cryptography>=1.1.0->adal<=1.2.7,>=1.2.0->azureml-core>=1.2.0->mlflow[extras]) (1.16.0)\n",
      "Requirement already satisfied: gevent>=0.13 in /workspaces/mlops-zoomcamp/env1/lib/python3.10/site-packages (from geventhttpclient<=2.0.2,>=1.4.4->tritonclient[http]>=2.24->mlserver!=1.3.1,<1.4.0,>=1.2.0->mlflow[extras]) (24.2.1)\n",
      "Requirement already satisfied: brotli in /workspaces/mlops-zoomcamp/env1/lib/python3.10/site-packages (from geventhttpclient<=2.0.2,>=1.4.4->tritonclient[http]>=2.24->mlserver!=1.3.1,<1.4.0,>=1.2.0->mlflow[extras]) (1.1.0)\n",
      "Requirement already satisfied: sniffio>=1.1 in /workspaces/mlops-zoomcamp/env1/lib/python3.10/site-packages (from anyio<5,>=3.4.0->starlette==0.22.0->fastapi!=0.89.0,<=0.89.1,>=0.88.0->mlserver!=1.3.1,<1.4.0,>=1.2.0->mlflow[extras]) (1.3.1)\n",
      "Requirement already satisfied: exceptiongroup>=1.0.2 in /workspaces/mlops-zoomcamp/env1/lib/python3.10/site-packages (from anyio<5,>=3.4.0->starlette==0.22.0->fastapi!=0.89.0,<=0.89.1,>=0.88.0->mlserver!=1.3.1,<1.4.0,>=1.2.0->mlflow[extras]) (1.2.1)\n",
      "Requirement already satisfied: pycparser in /workspaces/mlops-zoomcamp/env1/lib/python3.10/site-packages (from cffi>=1.12->cryptography>=1.1.0->adal<=1.2.7,>=1.2.0->azureml-core>=1.2.0->mlflow[extras]) (2.22)\n",
      "Requirement already satisfied: zope.event in /workspaces/mlops-zoomcamp/env1/lib/python3.10/site-packages (from gevent>=0.13->geventhttpclient<=2.0.2,>=1.4.4->tritonclient[http]>=2.24->mlserver!=1.3.1,<1.4.0,>=1.2.0->mlflow[extras]) (5.0)\n",
      "Requirement already satisfied: zope.interface in /workspaces/mlops-zoomcamp/env1/lib/python3.10/site-packages (from gevent>=0.13->geventhttpclient<=2.0.2,>=1.4.4->tritonclient[http]>=2.24->mlserver!=1.3.1,<1.4.0,>=1.2.0->mlflow[extras]) (6.4.post2)\n",
      "\n",
      "\u001b[1m[\u001b[0m\u001b[34;49mnotice\u001b[0m\u001b[1;39;49m]\u001b[0m\u001b[39;49m A new release of pip is available: \u001b[0m\u001b[31;49m23.0.1\u001b[0m\u001b[39;49m -> \u001b[0m\u001b[32;49m24.1.1\u001b[0m\n",
      "\u001b[1m[\u001b[0m\u001b[34;49mnotice\u001b[0m\u001b[1;39;49m]\u001b[0m\u001b[39;49m To update, run: \u001b[0m\u001b[32;49mpip install --upgrade pip\u001b[0m\n",
      "Requirement already satisfied: mlflow-skinny in /workspaces/mlops-zoomcamp/env1/lib/python3.10/site-packages (2.14.1)\n",
      "Requirement already satisfied: protobuf<5,>=3.12.0 in /workspaces/mlops-zoomcamp/env1/lib/python3.10/site-packages (from mlflow-skinny) (4.25.3)\n",
      "Requirement already satisfied: requests<3,>=2.17.3 in /workspaces/mlops-zoomcamp/env1/lib/python3.10/site-packages (from mlflow-skinny) (2.32.3)\n",
      "Requirement already satisfied: opentelemetry-sdk<3,>=1.9.0 in /workspaces/mlops-zoomcamp/env1/lib/python3.10/site-packages (from mlflow-skinny) (1.25.0)\n",
      "Requirement already satisfied: packaging<25 in /workspaces/mlops-zoomcamp/env1/lib/python3.10/site-packages (from mlflow-skinny) (24.1)\n",
      "Requirement already satisfied: pyyaml<7,>=5.1 in /workspaces/mlops-zoomcamp/env1/lib/python3.10/site-packages (from mlflow-skinny) (6.0.1)\n",
      "Requirement already satisfied: opentelemetry-api<3,>=1.9.0 in /workspaces/mlops-zoomcamp/env1/lib/python3.10/site-packages (from mlflow-skinny) (1.25.0)\n",
      "Requirement already satisfied: cachetools<6,>=5.0.0 in /workspaces/mlops-zoomcamp/env1/lib/python3.10/site-packages (from mlflow-skinny) (5.3.3)\n",
      "Requirement already satisfied: gitpython<4,>=3.1.9 in /workspaces/mlops-zoomcamp/env1/lib/python3.10/site-packages (from mlflow-skinny) (3.1.43)\n",
      "Requirement already satisfied: sqlparse<1,>=0.4.0 in /workspaces/mlops-zoomcamp/env1/lib/python3.10/site-packages (from mlflow-skinny) (0.5.0)\n",
      "Requirement already satisfied: click<9,>=7.0 in /workspaces/mlops-zoomcamp/env1/lib/python3.10/site-packages (from mlflow-skinny) (8.1.7)\n",
      "Requirement already satisfied: importlib-metadata!=4.7.0,<8,>=3.7.0 in /workspaces/mlops-zoomcamp/env1/lib/python3.10/site-packages (from mlflow-skinny) (7.1.0)\n",
      "Requirement already satisfied: entrypoints<1 in /workspaces/mlops-zoomcamp/env1/lib/python3.10/site-packages (from mlflow-skinny) (0.4)\n",
      "Requirement already satisfied: pytz<2025 in /workspaces/mlops-zoomcamp/env1/lib/python3.10/site-packages (from mlflow-skinny) (2024.1)\n",
      "Requirement already satisfied: cloudpickle<4 in /workspaces/mlops-zoomcamp/env1/lib/python3.10/site-packages (from mlflow-skinny) (3.0.0)\n",
      "Requirement already satisfied: gitdb<5,>=4.0.1 in /workspaces/mlops-zoomcamp/env1/lib/python3.10/site-packages (from gitpython<4,>=3.1.9->mlflow-skinny) (4.0.11)\n",
      "Requirement already satisfied: zipp>=0.5 in /workspaces/mlops-zoomcamp/env1/lib/python3.10/site-packages (from importlib-metadata!=4.7.0,<8,>=3.7.0->mlflow-skinny) (3.19.2)\n",
      "Requirement already satisfied: deprecated>=1.2.6 in /workspaces/mlops-zoomcamp/env1/lib/python3.10/site-packages (from opentelemetry-api<3,>=1.9.0->mlflow-skinny) (1.2.14)\n",
      "Requirement already satisfied: typing-extensions>=3.7.4 in /workspaces/mlops-zoomcamp/env1/lib/python3.10/site-packages (from opentelemetry-sdk<3,>=1.9.0->mlflow-skinny) (4.12.2)\n",
      "Requirement already satisfied: opentelemetry-semantic-conventions==0.46b0 in /workspaces/mlops-zoomcamp/env1/lib/python3.10/site-packages (from opentelemetry-sdk<3,>=1.9.0->mlflow-skinny) (0.46b0)\n",
      "Requirement already satisfied: certifi>=2017.4.17 in /workspaces/mlops-zoomcamp/env1/lib/python3.10/site-packages (from requests<3,>=2.17.3->mlflow-skinny) (2024.6.2)\n",
      "Requirement already satisfied: idna<4,>=2.5 in /workspaces/mlops-zoomcamp/env1/lib/python3.10/site-packages (from requests<3,>=2.17.3->mlflow-skinny) (3.7)\n",
      "Requirement already satisfied: urllib3<3,>=1.21.1 in /workspaces/mlops-zoomcamp/env1/lib/python3.10/site-packages (from requests<3,>=2.17.3->mlflow-skinny) (2.2.2)\n",
      "Requirement already satisfied: charset-normalizer<4,>=2 in /workspaces/mlops-zoomcamp/env1/lib/python3.10/site-packages (from requests<3,>=2.17.3->mlflow-skinny) (3.3.2)\n",
      "Requirement already satisfied: wrapt<2,>=1.10 in /workspaces/mlops-zoomcamp/env1/lib/python3.10/site-packages (from deprecated>=1.2.6->opentelemetry-api<3,>=1.9.0->mlflow-skinny) (1.16.0)\n",
      "Requirement already satisfied: smmap<6,>=3.0.1 in /workspaces/mlops-zoomcamp/env1/lib/python3.10/site-packages (from gitdb<5,>=4.0.1->gitpython<4,>=3.1.9->mlflow-skinny) (5.0.1)\n",
      "\n",
      "\u001b[1m[\u001b[0m\u001b[34;49mnotice\u001b[0m\u001b[1;39;49m]\u001b[0m\u001b[39;49m A new release of pip is available: \u001b[0m\u001b[31;49m23.0.1\u001b[0m\u001b[39;49m -> \u001b[0m\u001b[32;49m24.1.1\u001b[0m\n",
      "\u001b[1m[\u001b[0m\u001b[34;49mnotice\u001b[0m\u001b[1;39;49m]\u001b[0m\u001b[39;49m To update, run: \u001b[0m\u001b[32;49mpip install --upgrade pip\u001b[0m\n"
     ]
    }
   ],
   "source": [
    "\n",
    "!pip install mlflow\n",
    "\n",
    "\n",
    "!pip install mlflow[pipelines] \n",
    "!conda install -c conda-forge mlflow-pipelines\n",
    "\n",
    "!pip install mlflow[extras]\n",
    "\n",
    "!pip install mlflow-skinny"
   ]
  },
  {
   "cell_type": "code",
   "execution_count": 38,
   "id": "97d51338",
   "metadata": {},
   "outputs": [
    {
     "data": {
      "text/plain": [
       "<Experiment: artifact_location='/workspaces/mlops-zoomcamp/env1/02-experiment-tracking/mlruns/1', creation_time=1719836589746, experiment_id='1', last_update_time=1719836589746, lifecycle_stage='active', name='nyc-taxi-experiment', tags={}>"
      ]
     },
     "execution_count": 38,
     "metadata": {},
     "output_type": "execute_result"
    }
   ],
   "source": [
    "import mlflow\n",
    " \n",
    " \n",
    "mlflow.set_tracking_uri(\"sqlite:///mlflow.db\")\n",
    "mlflow.set_experiment(\"nyc-taxi-experiment\")"
   ]
  },
  {
   "cell_type": "code",
   "execution_count": 14,
   "id": "7371db65",
   "metadata": {},
   "outputs": [],
   "source": [
    "import mlflow"
   ]
  },
  {
   "cell_type": "code",
   "execution_count": 15,
   "id": "f9e6479e",
   "metadata": {},
   "outputs": [],
   "source": [
    "def read_dataframe(filename):\n",
    "    df = pd.read_parquet(filename)\n",
    "\n",
    "    df.lpep_dropoff_datetime = pd.to_datetime(df.lpep_dropoff_datetime)\n",
    "    df.lpep_pickup_datetime = pd.to_datetime(df.lpep_pickup_datetime)\n",
    "\n",
    "    df['duration'] = df.lpep_dropoff_datetime - df.lpep_pickup_datetime\n",
    "    df.duration = df.duration.apply(lambda td: td.total_seconds() / 60)\n",
    "\n",
    "    df = df[(df.duration >= 1) & (df.duration <= 60)]\n",
    "\n",
    "    categorical = ['PULocationID', 'DOLocationID']\n",
    "    df[categorical] = df[categorical].astype(str)\n",
    "    \n",
    "    return df"
   ]
  },
  {
   "cell_type": "code",
   "execution_count": 16,
   "id": "8029eba0",
   "metadata": {},
   "outputs": [],
   "source": [
    "df_train = read_dataframe(\"/workspaces/mlops-zoomcamp/env1/02-experiment-tracking/data/green_tripdata_2021-01.parquet\")\n",
    "df_val = read_dataframe(\"/workspaces/mlops-zoomcamp/env1/02-experiment-tracking/data/green_tripdata_2021-02.parquet\")"
   ]
  },
  {
   "cell_type": "code",
   "execution_count": 17,
   "id": "f6f2f0eb",
   "metadata": {},
   "outputs": [
    {
     "data": {
      "text/plain": [
       "(73908, 61921)"
      ]
     },
     "execution_count": 17,
     "metadata": {},
     "output_type": "execute_result"
    }
   ],
   "source": [
    "len(df_train), len(df_val)"
   ]
  },
  {
   "cell_type": "code",
   "execution_count": 18,
   "id": "d8e9c81d",
   "metadata": {},
   "outputs": [
    {
     "data": {
      "text/plain": [
       "VendorID                          int64\n",
       "lpep_pickup_datetime     datetime64[us]\n",
       "lpep_dropoff_datetime    datetime64[us]\n",
       "store_and_fwd_flag               object\n",
       "RatecodeID                      float64\n",
       "PULocationID                     object\n",
       "DOLocationID                     object\n",
       "passenger_count                 float64\n",
       "trip_distance                   float64\n",
       "fare_amount                     float64\n",
       "extra                           float64\n",
       "mta_tax                         float64\n",
       "tip_amount                      float64\n",
       "tolls_amount                    float64\n",
       "ehail_fee                        object\n",
       "improvement_surcharge           float64\n",
       "total_amount                    float64\n",
       "payment_type                    float64\n",
       "trip_type                       float64\n",
       "congestion_surcharge            float64\n",
       "duration                        float64\n",
       "dtype: object"
      ]
     },
     "execution_count": 18,
     "metadata": {},
     "output_type": "execute_result"
    }
   ],
   "source": [
    "df_train.dtypes"
   ]
  },
  {
   "cell_type": "code",
   "execution_count": 19,
   "id": "951d51ef",
   "metadata": {},
   "outputs": [],
   "source": [
    "df_train['PU_DO'] = df_train['PULocationID'].astype(str) + '_' + df_train['DOLocationID'].astype(str)\n",
    "df_val['PU_DO'] = df_val['PULocationID'].astype(str) + '_' + df_val['DOLocationID'].astype(str)"
   ]
  },
  {
   "cell_type": "code",
   "execution_count": 20,
   "id": "c5cbfc25",
   "metadata": {},
   "outputs": [],
   "source": [
    "categorical = ['PU_DO'] #'PULocationID', 'DOLocationID']\n",
    "numerical = ['trip_distance']\n",
    "\n",
    "dv = DictVectorizer()\n",
    "\n",
    "train_dicts = df_train[categorical + numerical].to_dict(orient='records')\n",
    "X_train = dv.fit_transform(train_dicts)\n",
    "\n",
    "val_dicts = df_val[categorical + numerical].to_dict(orient='records')\n",
    "X_val = dv.transform(val_dicts)"
   ]
  },
  {
   "cell_type": "code",
   "execution_count": 21,
   "id": "1e9fb68b",
   "metadata": {},
   "outputs": [],
   "source": [
    "target = 'duration'\n",
    "y_train = df_train[target].values\n",
    "y_val = df_val[target].values"
   ]
  },
  {
   "cell_type": "code",
   "execution_count": 22,
   "id": "429e2394",
   "metadata": {},
   "outputs": [
    {
     "data": {
      "text/plain": [
       "60.19766170466965"
      ]
     },
     "execution_count": 22,
     "metadata": {},
     "output_type": "execute_result"
    }
   ],
   "source": [
    "lr = LinearRegression()\n",
    "lr.fit(X_train, y_train)\n",
    "\n",
    "y_pred = lr.predict(X_val)\n",
    "\n",
    "root_mean_squared_error(y_val, y_pred)"
   ]
  },
  {
   "cell_type": "code",
   "execution_count": 23,
   "id": "22bf6f8b",
   "metadata": {},
   "outputs": [],
   "source": [
    "with open(\"/workspaces/mlops-zoomcamp/env1/02-experiment-tracking/models/lin_reg.bin\", \"wb\") as f_out:\n",
    "    pickle.dump((dv, lr), f_out)"
   ]
  },
  {
   "cell_type": "code",
   "execution_count": 24,
   "id": "06ee7161",
   "metadata": {},
   "outputs": [],
   "source": [
    "# !pip install mlflow"
   ]
  },
  {
   "cell_type": "code",
   "execution_count": 37,
   "id": "a4999b94",
   "metadata": {},
   "outputs": [
    {
     "name": "stdout",
     "output_type": "stream",
     "text": [
      "11.167275941179728 124.70805194645156\n"
     ]
    }
   ],
   "source": [
    "import numpy as np\n",
    "experiment_id=\"1\"\n",
    "mlflow.set_experiment(experiment_id=experiment_id)\n",
    "\n",
    "with mlflow.start_run():\n",
    "\n",
    "    mlflow.set_tag(\"developer\", \"Kasi\")\n",
    "\n",
    "    mlflow.log_param(\"train-data-path\", \"/workspaces/mlops-zoomcamp/env1/02-experiment-tracking/data/green_tripdata_2021-01.parquet\")\n",
    "    mlflow.log_param(\"valid-data-path\", \"/workspaces/mlops-zoomcamp/env1/02-experiment-tracking/data/green_tripdata_2021-02.parquet\")\n",
    "\n",
    "    alpha = 0.01\n",
    "    mlflow.log_param(\"alpha\", alpha)\n",
    "    lr = Lasso(alpha)\n",
    "    lr.fit(X_train, y_train)\n",
    "\n",
    "    y_pred = lr.predict(X_val)\n",
    "    rmse = root_mean_squared_error(y_val, y_pred)\n",
    "    mse = np.sqrt(rmse)\n",
    "    print(mse,rmse)\n",
    "    \n",
    "    mlflow.log_metric(\"rmse\", rmse)\n",
    "\n",
    "    mlflow.log_artifact(local_path=\"/workspaces/mlops-zoomcamp/env1/02-experiment-tracking/models/lin_reg.bin\", artifact_path=\"models_pickle\")"
   ]
  },
  {
   "cell_type": "code",
   "execution_count": null,
   "id": "47b0eb9b",
   "metadata": {},
   "outputs": [],
   "source": []
  },
  {
   "cell_type": "code",
   "execution_count": 26,
   "id": "5f56e97b",
   "metadata": {},
   "outputs": [],
   "source": [
    "import xgboost as xgb"
   ]
  },
  {
   "cell_type": "code",
   "execution_count": 27,
   "id": "907dc6a2",
   "metadata": {},
   "outputs": [],
   "source": [
    "from hyperopt import fmin, tpe, hp, STATUS_OK, Trials\n",
    "from hyperopt.pyll import scope"
   ]
  },
  {
   "cell_type": "code",
   "execution_count": 28,
   "id": "091ab328",
   "metadata": {},
   "outputs": [],
   "source": [
    "train = xgb.DMatrix(X_train, label=y_train)\n",
    "valid = xgb.DMatrix(X_val, label=y_val)"
   ]
  },
  {
   "cell_type": "code",
   "execution_count": 29,
   "id": "c2d84b26",
   "metadata": {},
   "outputs": [],
   "source": [
    "def objective(params):\n",
    "    with mlflow.start_run():\n",
    "        mlflow.set_tag(\"model\", \"xgboost\")\n",
    "        mlflow.log_params(params)\n",
    "        booster = xgb.train(\n",
    "            params=params,\n",
    "            dtrain=train,\n",
    "            num_boost_round=10,\n",
    "            evals=[(valid, 'validation')],\n",
    "            early_stopping_rounds=50\n",
    "        )\n",
    "        y_pred = booster.predict(valid)\n",
    "        rmse = root_mean_squared_error(y_val, y_pred, squared=False)\n",
    "        mlflow.log_metric(\"rmse\", rmse)\n",
    "\n",
    "    return {'loss': rmse, 'status': STATUS_OK}"
   ]
  },
  {
   "cell_type": "code",
   "execution_count": 30,
   "id": "6b1f77f5",
   "metadata": {},
   "outputs": [
    {
     "name": "stdout",
     "output_type": "stream",
     "text": [
      "  0%|          | 0/5 [00:00<?, ?trial/s, best loss=?]"
     ]
    },
    {
     "name": "stderr",
     "output_type": "stream",
     "text": [
      "/workspaces/mlops-zoomcamp/env1/lib/python3.10/site-packages/xgboost/core.py:158: UserWarning: [04:55:11] WARNING: /workspace/src/objective/regression_obj.cu:227: reg:linear is now deprecated in favor of reg:squarederror.\n",
      "  warnings.warn(smsg, UserWarning)\n",
      "\n"
     ]
    },
    {
     "name": "stdout",
     "output_type": "stream",
     "text": [
      "[0]\tvalidation-rmse:9.37481                          \n",
      "[1]\tvalidation-rmse:7.95703                          \n",
      "[2]\tvalidation-rmse:7.28890                          \n",
      "[3]\tvalidation-rmse:6.98202                          \n",
      "[4]\tvalidation-rmse:6.83557                          \n",
      "[5]\tvalidation-rmse:6.75119                          \n",
      "[6]\tvalidation-rmse:6.70691                          \n",
      "[7]\tvalidation-rmse:6.67993                          \n",
      "[8]\tvalidation-rmse:6.65945                          \n",
      "[9]\tvalidation-rmse:6.64682                          \n",
      " 20%|██        | 1/5 [00:07<00:30,  7.56s/trial, best loss: 6.646819077677881]"
     ]
    },
    {
     "name": "stderr",
     "output_type": "stream",
     "text": [
      "/workspaces/mlops-zoomcamp/env1/lib/python3.10/site-packages/sklearn/metrics/_regression.py:492: FutureWarning: 'squared' is deprecated in version 1.4 and will be removed in 1.6. To calculate the root mean squared error, use the function'root_mean_squared_error'.\n",
      "  warnings.warn(\n",
      "\n",
      "/workspaces/mlops-zoomcamp/env1/lib/python3.10/site-packages/xgboost/core.py:158: UserWarning: [04:55:18] WARNING: /workspace/src/objective/regression_obj.cu:227: reg:linear is now deprecated in favor of reg:squarederror.\n",
      "  warnings.warn(smsg, UserWarning)\n",
      "\n"
     ]
    },
    {
     "name": "stdout",
     "output_type": "stream",
     "text": [
      "[0]\tvalidation-rmse:11.33711                                                  \n",
      "[1]\tvalidation-rmse:10.58769                                                  \n",
      "[2]\tvalidation-rmse:9.94938                                                   \n",
      "[3]\tvalidation-rmse:9.40724                                                   \n",
      "[4]\tvalidation-rmse:8.95048                                                   \n",
      "[5]\tvalidation-rmse:8.56701                                                   \n",
      "[6]\tvalidation-rmse:8.24645                                                   \n",
      "[7]\tvalidation-rmse:7.97911                                                   \n",
      "[8]\tvalidation-rmse:7.75740                                                   \n",
      "[9]\tvalidation-rmse:7.57325                                                   \n",
      " 40%|████      | 2/5 [00:15<00:22,  7.63s/trial, best loss: 6.646819077677881]"
     ]
    },
    {
     "name": "stderr",
     "output_type": "stream",
     "text": [
      "/workspaces/mlops-zoomcamp/env1/lib/python3.10/site-packages/sklearn/metrics/_regression.py:492: FutureWarning: 'squared' is deprecated in version 1.4 and will be removed in 1.6. To calculate the root mean squared error, use the function'root_mean_squared_error'.\n",
      "  warnings.warn(\n",
      "\n",
      "/workspaces/mlops-zoomcamp/env1/lib/python3.10/site-packages/xgboost/core.py:158: UserWarning: [04:55:26] WARNING: /workspace/src/objective/regression_obj.cu:227: reg:linear is now deprecated in favor of reg:squarederror.\n",
      "  warnings.warn(smsg, UserWarning)\n",
      "\n"
     ]
    },
    {
     "name": "stdout",
     "output_type": "stream",
     "text": [
      "[0]\tvalidation-rmse:9.69775                                                   \n",
      "[1]\tvalidation-rmse:8.28095                                                   \n",
      "[2]\tvalidation-rmse:7.52208                                                   \n",
      "[3]\tvalidation-rmse:7.12831                                                   \n",
      "[4]\tvalidation-rmse:6.91814                                                   \n",
      "[5]\tvalidation-rmse:6.80005                                                   \n",
      "[6]\tvalidation-rmse:6.72862                                                   \n",
      "[7]\tvalidation-rmse:6.68938                                                   \n",
      "[8]\tvalidation-rmse:6.66193                                                   \n",
      "[9]\tvalidation-rmse:6.64467                                                   \n",
      " 60%|██████    | 3/5 [00:25<00:17,  8.85s/trial, best loss: 6.64467473041842] "
     ]
    },
    {
     "name": "stderr",
     "output_type": "stream",
     "text": [
      "/workspaces/mlops-zoomcamp/env1/lib/python3.10/site-packages/sklearn/metrics/_regression.py:492: FutureWarning: 'squared' is deprecated in version 1.4 and will be removed in 1.6. To calculate the root mean squared error, use the function'root_mean_squared_error'.\n",
      "  warnings.warn(\n",
      "\n",
      "/workspaces/mlops-zoomcamp/env1/lib/python3.10/site-packages/xgboost/core.py:158: UserWarning: [04:55:36] WARNING: /workspace/src/objective/regression_obj.cu:227: reg:linear is now deprecated in favor of reg:squarederror.\n",
      "  warnings.warn(smsg, UserWarning)\n",
      "\n"
     ]
    },
    {
     "name": "stdout",
     "output_type": "stream",
     "text": [
      "[0]\tvalidation-rmse:9.04938                                                  \n",
      "[1]\tvalidation-rmse:7.58968                                                  \n",
      "[2]\tvalidation-rmse:6.95939                                                  \n",
      "[3]\tvalidation-rmse:6.69297                                                  \n",
      "[4]\tvalidation-rmse:6.57318                                                  \n",
      "[5]\tvalidation-rmse:6.51120                                                  \n",
      "[6]\tvalidation-rmse:6.47384                                                  \n",
      "[7]\tvalidation-rmse:6.45221                                                  \n",
      "[8]\tvalidation-rmse:6.43833                                                  \n",
      "[9]\tvalidation-rmse:6.42933                                                  \n",
      " 80%|████████  | 4/5 [00:49<00:14, 14.71s/trial, best loss: 6.429329932237456]"
     ]
    },
    {
     "name": "stderr",
     "output_type": "stream",
     "text": [
      "/workspaces/mlops-zoomcamp/env1/lib/python3.10/site-packages/sklearn/metrics/_regression.py:492: FutureWarning: 'squared' is deprecated in version 1.4 and will be removed in 1.6. To calculate the root mean squared error, use the function'root_mean_squared_error'.\n",
      "  warnings.warn(\n",
      "\n",
      "/workspaces/mlops-zoomcamp/env1/lib/python3.10/site-packages/xgboost/core.py:158: UserWarning: [04:56:00] WARNING: /workspace/src/objective/regression_obj.cu:227: reg:linear is now deprecated in favor of reg:squarederror.\n",
      "  warnings.warn(smsg, UserWarning)\n",
      "\n"
     ]
    },
    {
     "name": "stdout",
     "output_type": "stream",
     "text": [
      "[0]\tvalidation-rmse:8.44077                                                   \n",
      "[1]\tvalidation-rmse:7.20525                                                   \n",
      "[2]\tvalidation-rmse:6.82494                                                   \n",
      "[3]\tvalidation-rmse:6.69718                                                   \n",
      "[4]\tvalidation-rmse:6.64720                                                   \n",
      "[5]\tvalidation-rmse:6.62652                                                   \n",
      "[6]\tvalidation-rmse:6.61784                                                   \n",
      "[7]\tvalidation-rmse:6.61198                                                   \n",
      "[8]\tvalidation-rmse:6.60793                                                   \n",
      "[9]\tvalidation-rmse:6.60513                                                   \n",
      "100%|██████████| 5/5 [00:52<00:00, 10.58s/trial, best loss: 6.429329932237456]\n"
     ]
    },
    {
     "name": "stderr",
     "output_type": "stream",
     "text": [
      "/workspaces/mlops-zoomcamp/env1/lib/python3.10/site-packages/sklearn/metrics/_regression.py:492: FutureWarning: 'squared' is deprecated in version 1.4 and will be removed in 1.6. To calculate the root mean squared error, use the function'root_mean_squared_error'.\n",
      "  warnings.warn(\n",
      "\n"
     ]
    }
   ],
   "source": [
    "search_space = {\n",
    "    'max_depth': scope.int(hp.quniform('max_depth', 4, 100, 1)),\n",
    "    'learning_rate': hp.loguniform('learning_rate', -3, 0),\n",
    "    'reg_alpha': hp.loguniform('reg_alpha', -5, -1),\n",
    "    'reg_lambda': hp.loguniform('reg_lambda', -6, -1),\n",
    "    'min_child_weight': hp.loguniform('min_child_weight', -1, 3),\n",
    "    'objective': 'reg:linear',\n",
    "    'seed': 42\n",
    "}\n",
    "\n",
    "best_result = fmin(\n",
    "    fn=objective,\n",
    "    space=search_space,\n",
    "    algo=tpe.suggest,\n",
    "    max_evals=5,\n",
    "    trials=Trials()\n",
    ")"
   ]
  },
  {
   "cell_type": "code",
   "execution_count": 31,
   "id": "fc4d5283",
   "metadata": {},
   "outputs": [],
   "source": [
    "mlflow.xgboost.autolog(disable=True)"
   ]
  },
  {
   "cell_type": "code",
   "execution_count": 32,
   "id": "0e8cd729",
   "metadata": {},
   "outputs": [
    {
     "name": "stderr",
     "output_type": "stream",
     "text": [
      "/workspaces/mlops-zoomcamp/env1/lib/python3.10/site-packages/xgboost/core.py:158: UserWarning: [04:56:04] WARNING: /workspace/src/objective/regression_obj.cu:227: reg:linear is now deprecated in favor of reg:squarederror.\n",
      "  warnings.warn(smsg, UserWarning)\n"
     ]
    },
    {
     "name": "stdout",
     "output_type": "stream",
     "text": [
      "[0]\tvalidation-rmse:11.45836\n",
      "[1]\tvalidation-rmse:10.79725\n",
      "[2]\tvalidation-rmse:10.22104\n",
      "[3]\tvalidation-rmse:9.71995\n",
      "[4]\tvalidation-rmse:9.28684\n",
      "[5]\tvalidation-rmse:8.91201\n",
      "[6]\tvalidation-rmse:8.59100\n",
      "[7]\tvalidation-rmse:8.31518\n",
      "[8]\tvalidation-rmse:8.07799\n",
      "[9]\tvalidation-rmse:7.87706\n"
     ]
    },
    {
     "name": "stderr",
     "output_type": "stream",
     "text": [
      "/workspaces/mlops-zoomcamp/env1/lib/python3.10/site-packages/sklearn/metrics/_regression.py:492: FutureWarning: 'squared' is deprecated in version 1.4 and will be removed in 1.6. To calculate the root mean squared error, use the function'root_mean_squared_error'.\n",
      "  warnings.warn(\n",
      "/workspaces/mlops-zoomcamp/env1/lib/python3.10/site-packages/xgboost/core.py:158: UserWarning: [04:56:06] WARNING: /workspace/src/c_api/c_api.cc:1374: Saving model in the UBJSON format as default.  You can use file extension: `json`, `ubj` or `deprecated` to choose between formats.\n",
      "  warnings.warn(smsg, UserWarning)\n"
     ]
    }
   ],
   "source": [
    "with mlflow.start_run():\n",
    "    \n",
    "    train = xgb.DMatrix(X_train, label=y_train)\n",
    "    valid = xgb.DMatrix(X_val, label=y_val)\n",
    "\n",
    "    best_params = {\n",
    "        'learning_rate': 0.09585355369315604,\n",
    "        'max_depth': 10,\n",
    "        'min_child_weight': 1.060597050922164,\n",
    "        'objective': 'reg:linear',\n",
    "        'reg_alpha': 0.018060244040060163,\n",
    "        'reg_lambda': 0.011658731377413597,\n",
    "        'seed': 42\n",
    "    }\n",
    "\n",
    "    mlflow.log_params(best_params)\n",
    "\n",
    "    booster = xgb.train(\n",
    "        params=best_params,\n",
    "        dtrain=train,\n",
    "        num_boost_round=10,\n",
    "        evals=[(valid, 'validation')],\n",
    "        early_stopping_rounds=50\n",
    "    )\n",
    "\n",
    "    y_pred = booster.predict(valid)\n",
    "    rmse = root_mean_squared_error(y_val, y_pred, squared=False)\n",
    "    mlflow.log_metric(\"rmse\", rmse)\n",
    "\n",
    "    with open(\"models/preprocessor.b\", \"wb\") as f_out:\n",
    "        pickle.dump(dv, f_out)\n",
    "    mlflow.log_artifact(\"models/preprocessor.b\", artifact_path=\"preprocessor\")\n",
    "\n",
    "    mlflow.xgboost.log_model(booster, artifact_path=\"models_mlflow\")"
   ]
  },
  {
   "cell_type": "code",
   "execution_count": null,
   "id": "c2108f4b",
   "metadata": {},
   "outputs": [],
   "source": []
  },
  {
   "cell_type": "code",
   "execution_count": 33,
   "id": "87614b82",
   "metadata": {},
   "outputs": [
    {
     "name": "stderr",
     "output_type": "stream",
     "text": [
      "2024/07/02 04:56:14 WARNING mlflow.utils.autologging_utils: You are using an unsupported version of sklearn. If you encounter errors during autologging, try upgrading / downgrading sklearn to a supported version, or try upgrading MLflow.\n",
      "2024/07/02 04:56:14 WARNING mlflow.utils.autologging_utils: MLflow autologging encountered a warning: \"/workspaces/mlops-zoomcamp/env1/lib/python3.10/site-packages/_distutils_hack/__init__.py:18: UserWarning: Distutils was imported before Setuptools, but importing Setuptools also replaces the `distutils` module in `sys.modules`. This may lead to undesirable behaviors or errors. To avoid these issues, avoid using distutils directly, ensure that setuptools is installed in the traditional way (e.g. not an editable install), and/or make sure that setuptools is always imported before distutils.\"\n",
      "2024/07/02 04:56:14 WARNING mlflow.utils.autologging_utils: MLflow autologging encountered a warning: \"/workspaces/mlops-zoomcamp/env1/lib/python3.10/site-packages/_distutils_hack/__init__.py:33: UserWarning: Setuptools is replacing distutils.\"\n"
     ]
    },
    {
     "ename": "AssertionError",
     "evalue": "/usr/local/python/3.10.13/lib/python3.10/distutils/core.py",
     "output_type": "error",
     "traceback": [
      "\u001b[0;31m---------------------------------------------------------------------------\u001b[0m",
      "\u001b[0;31mAssertionError\u001b[0m                            Traceback (most recent call last)",
      "Cell \u001b[0;32mIn[33], line 4\u001b[0m\n\u001b[1;32m      1\u001b[0m \u001b[38;5;28;01mfrom\u001b[39;00m \u001b[38;5;21;01msklearn\u001b[39;00m\u001b[38;5;21;01m.\u001b[39;00m\u001b[38;5;21;01mensemble\u001b[39;00m \u001b[38;5;28;01mimport\u001b[39;00m RandomForestRegressor, GradientBoostingRegressor, ExtraTreesRegressor\n\u001b[1;32m      2\u001b[0m \u001b[38;5;28;01mfrom\u001b[39;00m \u001b[38;5;21;01msklearn\u001b[39;00m\u001b[38;5;21;01m.\u001b[39;00m\u001b[38;5;21;01msvm\u001b[39;00m \u001b[38;5;28;01mimport\u001b[39;00m LinearSVR\n\u001b[0;32m----> 4\u001b[0m \u001b[43mmlflow\u001b[49m\u001b[38;5;241;43m.\u001b[39;49m\u001b[43msklearn\u001b[49m\u001b[38;5;241;43m.\u001b[39;49m\u001b[43mautolog\u001b[49m\u001b[43m(\u001b[49m\u001b[43m)\u001b[49m\n\u001b[1;32m      6\u001b[0m \u001b[38;5;28;01mfor\u001b[39;00m model_class \u001b[38;5;129;01min\u001b[39;00m (RandomForestRegressor, GradientBoostingRegressor, ExtraTreesRegressor, LinearSVR):\n\u001b[1;32m      8\u001b[0m     \u001b[38;5;28;01mwith\u001b[39;00m mlflow\u001b[38;5;241m.\u001b[39mstart_run():\n",
      "File \u001b[0;32m/workspaces/mlops-zoomcamp/env1/lib/python3.10/site-packages/mlflow/utils/autologging_utils/__init__.py:453\u001b[0m, in \u001b[0;36mautologging_integration.<locals>.wrapper.<locals>.autolog\u001b[0;34m(*args, **kwargs)\u001b[0m\n\u001b[1;32m    434\u001b[0m \u001b[38;5;28;01mwith\u001b[39;00m set_mlflow_events_and_warnings_behavior_globally(\n\u001b[1;32m    435\u001b[0m     \u001b[38;5;66;03m# MLflow warnings emitted during autologging setup / enablement are likely\u001b[39;00m\n\u001b[1;32m    436\u001b[0m     \u001b[38;5;66;03m# actionable and relevant to the user, so they should be emitted as normal\u001b[39;00m\n\u001b[0;32m   (...)\u001b[0m\n\u001b[1;32m    449\u001b[0m     disable_warnings\u001b[38;5;241m=\u001b[39mis_silent_mode,\n\u001b[1;32m    450\u001b[0m ):\n\u001b[1;32m    451\u001b[0m     _check_and_log_warning_for_unsupported_package_versions(name)\n\u001b[0;32m--> 453\u001b[0m     \u001b[38;5;28;01mreturn\u001b[39;00m \u001b[43m_autolog\u001b[49m\u001b[43m(\u001b[49m\u001b[38;5;241;43m*\u001b[39;49m\u001b[43margs\u001b[49m\u001b[43m,\u001b[49m\u001b[43m \u001b[49m\u001b[38;5;241;43m*\u001b[39;49m\u001b[38;5;241;43m*\u001b[39;49m\u001b[43mkwargs\u001b[49m\u001b[43m)\u001b[49m\n",
      "File \u001b[0;32m/workspaces/mlops-zoomcamp/env1/lib/python3.10/site-packages/mlflow/sklearn/__init__.py:1274\u001b[0m, in \u001b[0;36mautolog\u001b[0;34m(log_input_examples, log_model_signatures, log_models, log_datasets, disable, exclusive, disable_for_unsupported_versions, silent, max_tuning_runs, log_post_training_metrics, serialization_format, registered_model_name, pos_label, extra_tags)\u001b[0m\n\u001b[1;32m    988\u001b[0m \u001b[38;5;129m@autologging_integration\u001b[39m(FLAVOR_NAME)\n\u001b[1;32m    989\u001b[0m \u001b[38;5;28;01mdef\u001b[39;00m \u001b[38;5;21mautolog\u001b[39m(\n\u001b[1;32m    990\u001b[0m     log_input_examples\u001b[38;5;241m=\u001b[39m\u001b[38;5;28;01mFalse\u001b[39;00m,\n\u001b[0;32m   (...)\u001b[0m\n\u001b[1;32m   1003\u001b[0m     extra_tags\u001b[38;5;241m=\u001b[39m\u001b[38;5;28;01mNone\u001b[39;00m,\n\u001b[1;32m   1004\u001b[0m ):\n\u001b[1;32m   1005\u001b[0m \u001b[38;5;250m    \u001b[39m\u001b[38;5;124;03m\"\"\"\u001b[39;00m\n\u001b[1;32m   1006\u001b[0m \u001b[38;5;124;03m    Enables (or disables) and configures autologging for scikit-learn estimators.\u001b[39;00m\n\u001b[1;32m   1007\u001b[0m \n\u001b[0;32m   (...)\u001b[0m\n\u001b[1;32m   1272\u001b[0m \u001b[38;5;124;03m        extra_tags: A dictionary of extra tags to set on each managed run created by autologging.\u001b[39;00m\n\u001b[1;32m   1273\u001b[0m \u001b[38;5;124;03m    \"\"\"\u001b[39;00m\n\u001b[0;32m-> 1274\u001b[0m     \u001b[43m_autolog\u001b[49m\u001b[43m(\u001b[49m\n\u001b[1;32m   1275\u001b[0m \u001b[43m        \u001b[49m\u001b[43mflavor_name\u001b[49m\u001b[38;5;241;43m=\u001b[39;49m\u001b[43mFLAVOR_NAME\u001b[49m\u001b[43m,\u001b[49m\n\u001b[1;32m   1276\u001b[0m \u001b[43m        \u001b[49m\u001b[43mlog_input_examples\u001b[49m\u001b[38;5;241;43m=\u001b[39;49m\u001b[43mlog_input_examples\u001b[49m\u001b[43m,\u001b[49m\n\u001b[1;32m   1277\u001b[0m \u001b[43m        \u001b[49m\u001b[43mlog_model_signatures\u001b[49m\u001b[38;5;241;43m=\u001b[39;49m\u001b[43mlog_model_signatures\u001b[49m\u001b[43m,\u001b[49m\n\u001b[1;32m   1278\u001b[0m \u001b[43m        \u001b[49m\u001b[43mlog_models\u001b[49m\u001b[38;5;241;43m=\u001b[39;49m\u001b[43mlog_models\u001b[49m\u001b[43m,\u001b[49m\n\u001b[1;32m   1279\u001b[0m \u001b[43m        \u001b[49m\u001b[43mlog_datasets\u001b[49m\u001b[38;5;241;43m=\u001b[39;49m\u001b[43mlog_datasets\u001b[49m\u001b[43m,\u001b[49m\n\u001b[1;32m   1280\u001b[0m \u001b[43m        \u001b[49m\u001b[43mdisable\u001b[49m\u001b[38;5;241;43m=\u001b[39;49m\u001b[43mdisable\u001b[49m\u001b[43m,\u001b[49m\n\u001b[1;32m   1281\u001b[0m \u001b[43m        \u001b[49m\u001b[43mexclusive\u001b[49m\u001b[38;5;241;43m=\u001b[39;49m\u001b[43mexclusive\u001b[49m\u001b[43m,\u001b[49m\n\u001b[1;32m   1282\u001b[0m \u001b[43m        \u001b[49m\u001b[43mdisable_for_unsupported_versions\u001b[49m\u001b[38;5;241;43m=\u001b[39;49m\u001b[43mdisable_for_unsupported_versions\u001b[49m\u001b[43m,\u001b[49m\n\u001b[1;32m   1283\u001b[0m \u001b[43m        \u001b[49m\u001b[43msilent\u001b[49m\u001b[38;5;241;43m=\u001b[39;49m\u001b[43msilent\u001b[49m\u001b[43m,\u001b[49m\n\u001b[1;32m   1284\u001b[0m \u001b[43m        \u001b[49m\u001b[43mmax_tuning_runs\u001b[49m\u001b[38;5;241;43m=\u001b[39;49m\u001b[43mmax_tuning_runs\u001b[49m\u001b[43m,\u001b[49m\n\u001b[1;32m   1285\u001b[0m \u001b[43m        \u001b[49m\u001b[43mlog_post_training_metrics\u001b[49m\u001b[38;5;241;43m=\u001b[39;49m\u001b[43mlog_post_training_metrics\u001b[49m\u001b[43m,\u001b[49m\n\u001b[1;32m   1286\u001b[0m \u001b[43m        \u001b[49m\u001b[43mserialization_format\u001b[49m\u001b[38;5;241;43m=\u001b[39;49m\u001b[43mserialization_format\u001b[49m\u001b[43m,\u001b[49m\n\u001b[1;32m   1287\u001b[0m \u001b[43m        \u001b[49m\u001b[43mpos_label\u001b[49m\u001b[38;5;241;43m=\u001b[39;49m\u001b[43mpos_label\u001b[49m\u001b[43m,\u001b[49m\n\u001b[1;32m   1288\u001b[0m \u001b[43m        \u001b[49m\u001b[43mextra_tags\u001b[49m\u001b[38;5;241;43m=\u001b[39;49m\u001b[43mextra_tags\u001b[49m\u001b[43m,\u001b[49m\n\u001b[1;32m   1289\u001b[0m \u001b[43m    \u001b[49m\u001b[43m)\u001b[49m\n",
      "File \u001b[0;32m/workspaces/mlops-zoomcamp/env1/lib/python3.10/site-packages/mlflow/sklearn/__init__.py:1836\u001b[0m, in \u001b[0;36m_autolog\u001b[0;34m(flavor_name, log_input_examples, log_model_signatures, log_models, log_datasets, disable, exclusive, disable_for_unsupported_versions, silent, max_tuning_runs, log_post_training_metrics, serialization_format, pos_label, extra_tags)\u001b[0m\n\u001b[1;32m   1834\u001b[0m     allow_children_patch \u001b[38;5;241m=\u001b[39m \u001b[38;5;28;01mTrue\u001b[39;00m\n\u001b[1;32m   1835\u001b[0m \u001b[38;5;28;01melse\u001b[39;00m:\n\u001b[0;32m-> 1836\u001b[0m     estimators_to_patch \u001b[38;5;241m=\u001b[39m \u001b[43m_gen_estimators_to_patch\u001b[49m\u001b[43m(\u001b[49m\u001b[43m)\u001b[49m\n\u001b[1;32m   1837\u001b[0m     patched_fit_impl \u001b[38;5;241m=\u001b[39m fit_mlflow\n\u001b[1;32m   1838\u001b[0m     allow_children_patch \u001b[38;5;241m=\u001b[39m \u001b[38;5;28;01mFalse\u001b[39;00m\n",
      "File \u001b[0;32m/workspaces/mlops-zoomcamp/env1/lib/python3.10/site-packages/mlflow/sklearn/__init__.py:100\u001b[0m, in \u001b[0;36m_gen_estimators_to_patch\u001b[0;34m()\u001b[0m\n\u001b[1;32m     94\u001b[0m \u001b[38;5;28;01mdef\u001b[39;00m \u001b[38;5;21m_gen_estimators_to_patch\u001b[39m():\n\u001b[1;32m     95\u001b[0m     \u001b[38;5;28;01mfrom\u001b[39;00m \u001b[38;5;21;01mmlflow\u001b[39;00m\u001b[38;5;21;01m.\u001b[39;00m\u001b[38;5;21;01msklearn\u001b[39;00m\u001b[38;5;21;01m.\u001b[39;00m\u001b[38;5;21;01mutils\u001b[39;00m \u001b[38;5;28;01mimport\u001b[39;00m (\n\u001b[1;32m     96\u001b[0m         _all_estimators,\n\u001b[1;32m     97\u001b[0m         _get_meta_estimators_for_autologging,\n\u001b[1;32m     98\u001b[0m     )\n\u001b[0;32m--> 100\u001b[0m     _, estimators_to_patch \u001b[38;5;241m=\u001b[39m \u001b[38;5;28mzip\u001b[39m(\u001b[38;5;241m*\u001b[39m\u001b[43m_all_estimators\u001b[49m\u001b[43m(\u001b[49m\u001b[43m)\u001b[49m)\n\u001b[1;32m    101\u001b[0m     \u001b[38;5;66;03m# Ensure that relevant meta estimators (e.g. GridSearchCV, Pipeline) are selected\u001b[39;00m\n\u001b[1;32m    102\u001b[0m     \u001b[38;5;66;03m# for patching if they are not already included in the output of `all_estimators()`\u001b[39;00m\n\u001b[1;32m    103\u001b[0m     estimators_to_patch \u001b[38;5;241m=\u001b[39m \u001b[38;5;28mset\u001b[39m(estimators_to_patch)\u001b[38;5;241m.\u001b[39munion(\n\u001b[1;32m    104\u001b[0m         \u001b[38;5;28mset\u001b[39m(_get_meta_estimators_for_autologging())\n\u001b[1;32m    105\u001b[0m     )\n",
      "File \u001b[0;32m/workspaces/mlops-zoomcamp/env1/lib/python3.10/site-packages/mlflow/sklearn/utils.py:876\u001b[0m, in \u001b[0;36m_all_estimators\u001b[0;34m()\u001b[0m\n\u001b[1;32m    873\u001b[0m \u001b[38;5;28;01mtry\u001b[39;00m:\n\u001b[1;32m    874\u001b[0m     \u001b[38;5;28;01mfrom\u001b[39;00m \u001b[38;5;21;01msklearn\u001b[39;00m\u001b[38;5;21;01m.\u001b[39;00m\u001b[38;5;21;01mutils\u001b[39;00m \u001b[38;5;28;01mimport\u001b[39;00m all_estimators\n\u001b[0;32m--> 876\u001b[0m     \u001b[38;5;28;01mreturn\u001b[39;00m \u001b[43mall_estimators\u001b[49m\u001b[43m(\u001b[49m\u001b[43m)\u001b[49m\n\u001b[1;32m    877\u001b[0m \u001b[38;5;28;01mexcept\u001b[39;00m \u001b[38;5;167;01mImportError\u001b[39;00m:\n\u001b[1;32m    878\u001b[0m     \u001b[38;5;28;01mreturn\u001b[39;00m _backported_all_estimators()\n",
      "File \u001b[0;32m/workspaces/mlops-zoomcamp/env1/lib/python3.10/site-packages/sklearn/utils/discovery.py:96\u001b[0m, in \u001b[0;36mall_estimators\u001b[0;34m(type_filter)\u001b[0m\n\u001b[1;32m     93\u001b[0m \u001b[38;5;66;03m# Ignore deprecation warnings triggered at import time and from walking\u001b[39;00m\n\u001b[1;32m     94\u001b[0m \u001b[38;5;66;03m# packages\u001b[39;00m\n\u001b[1;32m     95\u001b[0m \u001b[38;5;28;01mwith\u001b[39;00m ignore_warnings(category\u001b[38;5;241m=\u001b[39m\u001b[38;5;167;01mFutureWarning\u001b[39;00m):\n\u001b[0;32m---> 96\u001b[0m     \u001b[38;5;28;01mfor\u001b[39;00m _, module_name, _ \u001b[38;5;129;01min\u001b[39;00m pkgutil\u001b[38;5;241m.\u001b[39mwalk_packages(path\u001b[38;5;241m=\u001b[39m[root], prefix\u001b[38;5;241m=\u001b[39m\u001b[38;5;124m\"\u001b[39m\u001b[38;5;124msklearn.\u001b[39m\u001b[38;5;124m\"\u001b[39m):\n\u001b[1;32m     97\u001b[0m         module_parts \u001b[38;5;241m=\u001b[39m module_name\u001b[38;5;241m.\u001b[39msplit(\u001b[38;5;124m\"\u001b[39m\u001b[38;5;124m.\u001b[39m\u001b[38;5;124m\"\u001b[39m)\n\u001b[1;32m     98\u001b[0m         \u001b[38;5;28;01mif\u001b[39;00m (\n\u001b[1;32m     99\u001b[0m             \u001b[38;5;28many\u001b[39m(part \u001b[38;5;129;01min\u001b[39;00m _MODULE_TO_IGNORE \u001b[38;5;28;01mfor\u001b[39;00m part \u001b[38;5;129;01min\u001b[39;00m module_parts)\n\u001b[1;32m    100\u001b[0m             \u001b[38;5;129;01mor\u001b[39;00m \u001b[38;5;124m\"\u001b[39m\u001b[38;5;124m._\u001b[39m\u001b[38;5;124m\"\u001b[39m \u001b[38;5;129;01min\u001b[39;00m module_name\n\u001b[1;32m    101\u001b[0m         ):\n",
      "File \u001b[0;32m/usr/local/python/3.10.13/lib/python3.10/pkgutil.py:92\u001b[0m, in \u001b[0;36mwalk_packages\u001b[0;34m(path, prefix, onerror)\u001b[0m\n\u001b[1;32m     90\u001b[0m \u001b[38;5;28;01mif\u001b[39;00m info\u001b[38;5;241m.\u001b[39mispkg:\n\u001b[1;32m     91\u001b[0m     \u001b[38;5;28;01mtry\u001b[39;00m:\n\u001b[0;32m---> 92\u001b[0m         \u001b[38;5;28;43m__import__\u001b[39;49m\u001b[43m(\u001b[49m\u001b[43minfo\u001b[49m\u001b[38;5;241;43m.\u001b[39;49m\u001b[43mname\u001b[49m\u001b[43m)\u001b[49m\n\u001b[1;32m     93\u001b[0m     \u001b[38;5;28;01mexcept\u001b[39;00m \u001b[38;5;167;01mImportError\u001b[39;00m:\n\u001b[1;32m     94\u001b[0m         \u001b[38;5;28;01mif\u001b[39;00m onerror \u001b[38;5;129;01mis\u001b[39;00m \u001b[38;5;129;01mnot\u001b[39;00m \u001b[38;5;28;01mNone\u001b[39;00m:\n",
      "File \u001b[0;32m/workspaces/mlops-zoomcamp/env1/lib/python3.10/site-packages/sklearn/_build_utils/__init__.py:16\u001b[0m\n\u001b[1;32m     14\u001b[0m \u001b[38;5;28;01mfrom\u001b[39;00m \u001b[38;5;21;01m.\u001b[39;00m\u001b[38;5;21;01m.\u001b[39;00m\u001b[38;5;21;01m_min_dependencies\u001b[39;00m \u001b[38;5;28;01mimport\u001b[39;00m CYTHON_MIN_VERSION\n\u001b[1;32m     15\u001b[0m \u001b[38;5;28;01mfrom\u001b[39;00m \u001b[38;5;21;01m.\u001b[39;00m\u001b[38;5;21;01m.\u001b[39;00m\u001b[38;5;21;01mexternals\u001b[39;00m\u001b[38;5;21;01m.\u001b[39;00m\u001b[38;5;21;01m_packaging\u001b[39;00m\u001b[38;5;21;01m.\u001b[39;00m\u001b[38;5;21;01mversion\u001b[39;00m \u001b[38;5;28;01mimport\u001b[39;00m parse\n\u001b[0;32m---> 16\u001b[0m \u001b[38;5;28;01mfrom\u001b[39;00m \u001b[38;5;21;01m.\u001b[39;00m\u001b[38;5;21;01mopenmp_helpers\u001b[39;00m \u001b[38;5;28;01mimport\u001b[39;00m check_openmp_support\n\u001b[1;32m     17\u001b[0m \u001b[38;5;28;01mfrom\u001b[39;00m \u001b[38;5;21;01m.\u001b[39;00m\u001b[38;5;21;01mpre_build_helpers\u001b[39;00m \u001b[38;5;28;01mimport\u001b[39;00m basic_check_build\n\u001b[1;32m     19\u001b[0m DEFAULT_ROOT \u001b[38;5;241m=\u001b[39m \u001b[38;5;124m\"\u001b[39m\u001b[38;5;124msklearn\u001b[39m\u001b[38;5;124m\"\u001b[39m\n",
      "File \u001b[0;32m/workspaces/mlops-zoomcamp/env1/lib/python3.10/site-packages/sklearn/_build_utils/openmp_helpers.py:12\u001b[0m\n\u001b[1;32m      9\u001b[0m \u001b[38;5;28;01mimport\u001b[39;00m \u001b[38;5;21;01mtextwrap\u001b[39;00m\n\u001b[1;32m     10\u001b[0m \u001b[38;5;28;01mimport\u001b[39;00m \u001b[38;5;21;01mwarnings\u001b[39;00m\n\u001b[0;32m---> 12\u001b[0m \u001b[38;5;28;01mfrom\u001b[39;00m \u001b[38;5;21;01m.\u001b[39;00m\u001b[38;5;21;01mpre_build_helpers\u001b[39;00m \u001b[38;5;28;01mimport\u001b[39;00m compile_test_program\n\u001b[1;32m     15\u001b[0m \u001b[38;5;28;01mdef\u001b[39;00m \u001b[38;5;21mget_openmp_flag\u001b[39m():\n\u001b[1;32m     16\u001b[0m     \u001b[38;5;28;01mif\u001b[39;00m sys\u001b[38;5;241m.\u001b[39mplatform \u001b[38;5;241m==\u001b[39m \u001b[38;5;124m\"\u001b[39m\u001b[38;5;124mwin32\u001b[39m\u001b[38;5;124m\"\u001b[39m:\n",
      "File \u001b[0;32m/workspaces/mlops-zoomcamp/env1/lib/python3.10/site-packages/sklearn/_build_utils/pre_build_helpers.py:10\u001b[0m\n\u001b[1;32m      7\u001b[0m \u001b[38;5;28;01mimport\u001b[39;00m \u001b[38;5;21;01mtempfile\u001b[39;00m\n\u001b[1;32m      8\u001b[0m \u001b[38;5;28;01mimport\u001b[39;00m \u001b[38;5;21;01mtextwrap\u001b[39;00m\n\u001b[0;32m---> 10\u001b[0m \u001b[38;5;28;01mfrom\u001b[39;00m \u001b[38;5;21;01msetuptools\u001b[39;00m\u001b[38;5;21;01m.\u001b[39;00m\u001b[38;5;21;01mcommand\u001b[39;00m\u001b[38;5;21;01m.\u001b[39;00m\u001b[38;5;21;01mbuild_ext\u001b[39;00m \u001b[38;5;28;01mimport\u001b[39;00m customize_compiler, new_compiler\n\u001b[1;32m     13\u001b[0m \u001b[38;5;28;01mdef\u001b[39;00m \u001b[38;5;21mcompile_test_program\u001b[39m(code, extra_preargs\u001b[38;5;241m=\u001b[39m\u001b[38;5;28;01mNone\u001b[39;00m, extra_postargs\u001b[38;5;241m=\u001b[39m\u001b[38;5;28;01mNone\u001b[39;00m):\n\u001b[1;32m     14\u001b[0m \u001b[38;5;250m    \u001b[39m\u001b[38;5;124;03m\"\"\"Check that some C code can be compiled and run\"\"\"\u001b[39;00m\n",
      "File \u001b[0;32m/workspaces/mlops-zoomcamp/env1/lib/python3.10/site-packages/setuptools/__init__.py:8\u001b[0m\n\u001b[1;32m      5\u001b[0m \u001b[38;5;28;01mimport\u001b[39;00m \u001b[38;5;21;01mre\u001b[39;00m\n\u001b[1;32m      6\u001b[0m \u001b[38;5;28;01mimport\u001b[39;00m \u001b[38;5;21;01mwarnings\u001b[39;00m\n\u001b[0;32m----> 8\u001b[0m \u001b[38;5;28;01mimport\u001b[39;00m \u001b[38;5;21;01m_distutils_hack\u001b[39;00m\u001b[38;5;21;01m.\u001b[39;00m\u001b[38;5;21;01moverride\u001b[39;00m  \u001b[38;5;66;03m# noqa: F401\u001b[39;00m\n\u001b[1;32m     10\u001b[0m \u001b[38;5;28;01mimport\u001b[39;00m \u001b[38;5;21;01mdistutils\u001b[39;00m\u001b[38;5;21;01m.\u001b[39;00m\u001b[38;5;21;01mcore\u001b[39;00m\n\u001b[1;32m     11\u001b[0m \u001b[38;5;28;01mfrom\u001b[39;00m \u001b[38;5;21;01mdistutils\u001b[39;00m\u001b[38;5;21;01m.\u001b[39;00m\u001b[38;5;21;01merrors\u001b[39;00m \u001b[38;5;28;01mimport\u001b[39;00m DistutilsOptionError\n",
      "File \u001b[0;32m/workspaces/mlops-zoomcamp/env1/lib/python3.10/site-packages/_distutils_hack/override.py:1\u001b[0m\n\u001b[0;32m----> 1\u001b[0m \u001b[38;5;28;43m__import__\u001b[39;49m\u001b[43m(\u001b[49m\u001b[38;5;124;43m'\u001b[39;49m\u001b[38;5;124;43m_distutils_hack\u001b[39;49m\u001b[38;5;124;43m'\u001b[39;49m\u001b[43m)\u001b[49m\u001b[38;5;241;43m.\u001b[39;49m\u001b[43mdo_override\u001b[49m\u001b[43m(\u001b[49m\u001b[43m)\u001b[49m\n",
      "File \u001b[0;32m/workspaces/mlops-zoomcamp/env1/lib/python3.10/site-packages/_distutils_hack/__init__.py:77\u001b[0m, in \u001b[0;36mdo_override\u001b[0;34m()\u001b[0m\n\u001b[1;32m     75\u001b[0m \u001b[38;5;28;01mif\u001b[39;00m enabled():\n\u001b[1;32m     76\u001b[0m     warn_distutils_present()\n\u001b[0;32m---> 77\u001b[0m     \u001b[43mensure_local_distutils\u001b[49m\u001b[43m(\u001b[49m\u001b[43m)\u001b[49m\n",
      "File \u001b[0;32m/workspaces/mlops-zoomcamp/env1/lib/python3.10/site-packages/_distutils_hack/__init__.py:64\u001b[0m, in \u001b[0;36mensure_local_distutils\u001b[0;34m()\u001b[0m\n\u001b[1;32m     62\u001b[0m \u001b[38;5;66;03m# check that submodules load as expected\u001b[39;00m\n\u001b[1;32m     63\u001b[0m core \u001b[38;5;241m=\u001b[39m importlib\u001b[38;5;241m.\u001b[39mimport_module(\u001b[38;5;124m'\u001b[39m\u001b[38;5;124mdistutils.core\u001b[39m\u001b[38;5;124m'\u001b[39m)\n\u001b[0;32m---> 64\u001b[0m \u001b[38;5;28;01massert\u001b[39;00m \u001b[38;5;124m'\u001b[39m\u001b[38;5;124m_distutils\u001b[39m\u001b[38;5;124m'\u001b[39m \u001b[38;5;129;01min\u001b[39;00m core\u001b[38;5;241m.\u001b[39m\u001b[38;5;18m__file__\u001b[39m, core\u001b[38;5;241m.\u001b[39m\u001b[38;5;18m__file__\u001b[39m\n\u001b[1;32m     65\u001b[0m \u001b[38;5;28;01massert\u001b[39;00m \u001b[38;5;124m'\u001b[39m\u001b[38;5;124msetuptools._distutils.log\u001b[39m\u001b[38;5;124m'\u001b[39m \u001b[38;5;129;01mnot\u001b[39;00m \u001b[38;5;129;01min\u001b[39;00m sys\u001b[38;5;241m.\u001b[39mmodules\n",
      "\u001b[0;31mAssertionError\u001b[0m: /usr/local/python/3.10.13/lib/python3.10/distutils/core.py"
     ]
    }
   ],
   "source": [
    "from sklearn.ensemble import RandomForestRegressor, GradientBoostingRegressor, ExtraTreesRegressor\n",
    "from sklearn.svm import LinearSVR\n",
    "\n",
    "mlflow.sklearn.autolog()\n",
    "\n",
    "for model_class in (RandomForestRegressor, GradientBoostingRegressor, ExtraTreesRegressor, LinearSVR):\n",
    "\n",
    "    with mlflow.start_run():\n",
    "\n",
    "        mlflow.log_param(\"train-data-path\", \"/workspaces/mlops-zoomcamp/env1/02-experiment-tracking/data/green_tripdata_2021-01.parquet\")\n",
    "        mlflow.log_param(\"valid-data-path\", \"/workspaces/mlops-zoomcamp/env1/02-experiment-tracking/data/green_tripdata_2021-02.parquet\")\n",
    "        mlflow.log_artifact(\"models/preprocessor.b\", artifact_path=\"preprocessor\")\n",
    "\n",
    "        mlmodel = model_class()\n",
    "        mlmodel.fit(X_train, y_train)\n",
    "\n",
    "        y_pred = mlmodel.predict(X_val)\n",
    "        rmse = root_mean_squared_error(y_val, y_pred)\n",
    "        mlflow.log_metric(\"rmse\", rmse)\n",
    "        "
   ]
  },
  {
   "cell_type": "code",
   "execution_count": null,
   "id": "6f0813c7",
   "metadata": {},
   "outputs": [],
   "source": []
  },
  {
   "cell_type": "code",
   "execution_count": null,
   "id": "4c489ec5",
   "metadata": {},
   "outputs": [],
   "source": []
  }
 ],
 "metadata": {
  "interpreter": {
   "hash": "0848c9d6c7d415ad6c477ff7ff8e98694d1a4aa96d0deee89244642e6b630036"
  },
  "kernelspec": {
   "display_name": "Python 3 (ipykernel)",
   "language": "python",
   "name": "python3"
  },
  "language_info": {
   "codemirror_mode": {
    "name": "ipython",
    "version": 3
   },
   "file_extension": ".py",
   "mimetype": "text/x-python",
   "name": "python",
   "nbconvert_exporter": "python",
   "pygments_lexer": "ipython3",
   "version": "3.10.13"
  }
 },
 "nbformat": 4,
 "nbformat_minor": 5
}
