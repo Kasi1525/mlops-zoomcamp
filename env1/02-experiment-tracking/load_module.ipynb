{
 "cells": [
  {
   "cell_type": "code",
   "execution_count": 33,
   "metadata": {},
   "outputs": [],
   "source": [
    "import pandas as pd\n",
    "import numpy as np\n",
    "import pickle\n",
    "import matplotlib.pyplot as plt\n",
    "#import plotly.express as px\n",
    "from xgboost import XGBClassifier\n",
    "import seaborn as sns\n",
    "from sklearn.preprocessing import StandardScaler, LabelEncoder\n",
    "from sklearn.ensemble import RandomForestClassifier\n",
    "from sklearn.svm import SVC\n",
    "from sklearn.model_selection import RepeatedStratifiedKFold, RandomizedSearchCV, GridSearchCV, train_test_split, KFold\n",
    "import mlflow\n",
    "import mlflow.sklearn\n"
   ]
  },
  {
   "cell_type": "code",
   "execution_count": 34,
   "metadata": {},
   "outputs": [],
   "source": [
    "\n",
    "TRACKING_URL = \"http://127.0.0.1:5000\"\n",
    "mlflow.set_tracking_uri(TRACKING_URL)"
   ]
  },
  {
   "cell_type": "code",
   "execution_count": 35,
   "metadata": {},
   "outputs": [],
   "source": [
    "\n",
    "loaded_model = mlflow.sklearn.load_model(\"./my_model\")"
   ]
  },
  {
   "cell_type": "code",
   "execution_count": 36,
   "metadata": {},
   "outputs": [],
   "source": [
    "source_data= \"data/Student_performance_data _.csv\"\n",
    "\n",
    "def data_load(source_file,unique_maxcount):\n",
    "    #read the file to dataframe\n",
    "    df = pd.read_csv(source_file)\n",
    "\n",
    "    # Distinction is based on the number of different values in the column\n",
    "    columns = list(df.columns)\n",
    "    categoric_columns = []\n",
    "    numeric_columns = []\n",
    "    for i in columns:\n",
    "        if len(df[i].unique()) > unique_maxcount:\n",
    "            numeric_columns.append(i)   \n",
    "        else:\n",
    "            categoric_columns.append(i)\n",
    "    # Assuming the first column is an ID or non-numeric feature\n",
    "    numeric_columns = numeric_columns[1:]\n",
    "\n",
    "    # Convert numeric columns to float64\n",
    "    df[numeric_columns] = df[numeric_columns].astype('float64')\n",
    "\n",
    "    return df\n",
    "\n",
    "def features(df):\n",
    "    # CHOOSE THE TARGET FEATURE HERE, IN THIS CASE IT IS 'GradeClass'\n",
    "    X = df.drop(columns=['GradeClass', 'GPA', 'StudentID', 'Age'])\n",
    "    y = df['GradeClass']\n",
    "\n",
    "    # Splitting the data into training and testing sets (e.g., 80% train, 20% test)\n",
    "    X_train, X_test, y_train, y_test = train_test_split(X, y, test_size=0.2, stratify=y, random_state=42)\n",
    "\n",
    "    return X_train, X_test, y_train, y_test\n"
   ]
  },
  {
   "cell_type": "code",
   "execution_count": 37,
   "metadata": {},
   "outputs": [],
   "source": [
    "X_train, X_test, y_train, y_test = features(data_load(source_data, 5))\n",
    "loaded_model.fit(X_train, y_train)\n",
    "y_pred =loaded_model.predict(X_train)"
   ]
  },
  {
   "cell_type": "code",
   "execution_count": 38,
   "metadata": {},
   "outputs": [
    {
     "data": {
      "text/plain": [
       "array([3., 4., 4., ..., 4., 4., 3.])"
      ]
     },
     "execution_count": 38,
     "metadata": {},
     "output_type": "execute_result"
    }
   ],
   "source": [
    "y_pred"
   ]
  },
  {
   "cell_type": "code",
   "execution_count": 39,
   "metadata": {},
   "outputs": [
    {
     "data": {
      "text/plain": [
       "653     3.0\n",
       "200     4.0\n",
       "1606    4.0\n",
       "1032    4.0\n",
       "1293    4.0\n",
       "       ... \n",
       "410     3.0\n",
       "2115    2.0\n",
       "719     4.0\n",
       "2221    1.0\n",
       "1553    3.0\n",
       "Name: GradeClass, Length: 1913, dtype: float64"
      ]
     },
     "execution_count": 39,
     "metadata": {},
     "output_type": "execute_result"
    }
   ],
   "source": [
    "y_train"
   ]
  },
  {
   "cell_type": "code",
   "execution_count": null,
   "metadata": {},
   "outputs": [],
   "source": []
  }
 ],
 "metadata": {
  "kernelspec": {
   "display_name": "env1",
   "language": "python",
   "name": "python3"
  },
  "language_info": {
   "codemirror_mode": {
    "name": "ipython",
    "version": 3
   },
   "file_extension": ".py",
   "mimetype": "text/x-python",
   "name": "python",
   "nbconvert_exporter": "python",
   "pygments_lexer": "ipython3",
   "version": "3.10.13"
  }
 },
 "nbformat": 4,
 "nbformat_minor": 2
}
